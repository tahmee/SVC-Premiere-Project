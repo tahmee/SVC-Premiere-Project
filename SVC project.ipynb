{
 "cells": [
  {
   "cell_type": "markdown",
   "id": "103bb3b5",
   "metadata": {},
   "source": [
    "<h1>Climate Risk and Economic Losses<h1>"
   ]
  },
  {
   "cell_type": "markdown",
   "id": "caa531e1",
   "metadata": {},
   "source": [
    "This dataset contains critical information about the Global Climate Risk Index and associated economic data for countries around the world. The data provides insight into the effects of climate-related disasters on countries, allowing us to understand which areas are most affected. This dataset includes columns such as geom, cri_rank, cri_score, fatalities_per_100k_rank, fatalities per 100k total, fatalities rank, and more."
   ]
  },
  {
   "cell_type": "code",
   "execution_count": 1,
   "id": "8a84ab9c",
   "metadata": {},
   "outputs": [],
   "source": [
    "#importing needed libraries for analysis and visualization\n",
    "import pandas as pd\n",
    "import numpy as np\n",
    "import matplotlib.pyplot as plt\n",
    "import seaborn as sns\n",
    "%matplotlib inline"
   ]
  },
  {
   "cell_type": "code",
   "execution_count": 2,
   "id": "98df2c3f",
   "metadata": {},
   "outputs": [
    {
     "data": {
      "text/html": [
       "<div>\n",
       "<style scoped>\n",
       "    .dataframe tbody tr th:only-of-type {\n",
       "        vertical-align: middle;\n",
       "    }\n",
       "\n",
       "    .dataframe tbody tr th {\n",
       "        vertical-align: top;\n",
       "    }\n",
       "\n",
       "    .dataframe thead th {\n",
       "        text-align: right;\n",
       "    }\n",
       "</style>\n",
       "<table border=\"1\" class=\"dataframe\">\n",
       "  <thead>\n",
       "    <tr style=\"text-align: right;\">\n",
       "      <th></th>\n",
       "      <th>index</th>\n",
       "      <th>cartodb_id</th>\n",
       "      <th>the_geom</th>\n",
       "      <th>the_geom_webmercator</th>\n",
       "      <th>country</th>\n",
       "      <th>cri_rank</th>\n",
       "      <th>cri_score</th>\n",
       "      <th>fatalities_per_100k_rank</th>\n",
       "      <th>fatalities_per_100k_total</th>\n",
       "      <th>fatalities_rank</th>\n",
       "      <th>fatalities_total</th>\n",
       "      <th>losses_per_gdp__rank</th>\n",
       "      <th>losses_per_gdp__total</th>\n",
       "      <th>losses_usdm_ppp_rank</th>\n",
       "      <th>losses_usdm_ppp_total</th>\n",
       "      <th>rw_country_code</th>\n",
       "      <th>rw_country_name</th>\n",
       "    </tr>\n",
       "  </thead>\n",
       "  <tbody>\n",
       "    <tr>\n",
       "      <th>0</th>\n",
       "      <td>0</td>\n",
       "      <td>1</td>\n",
       "      <td>NaN</td>\n",
       "      <td>NaN</td>\n",
       "      <td>Saudi Arabia</td>\n",
       "      <td>79</td>\n",
       "      <td>72.50</td>\n",
       "      <td>18</td>\n",
       "      <td>0.45</td>\n",
       "      <td>18</td>\n",
       "      <td>140</td>\n",
       "      <td>131</td>\n",
       "      <td>0.0001</td>\n",
       "      <td>119</td>\n",
       "      <td>1.229</td>\n",
       "      <td>SAU</td>\n",
       "      <td>Saudi Arabia</td>\n",
       "    </tr>\n",
       "    <tr>\n",
       "      <th>1</th>\n",
       "      <td>1</td>\n",
       "      <td>2</td>\n",
       "      <td>NaN</td>\n",
       "      <td>NaN</td>\n",
       "      <td>Romania</td>\n",
       "      <td>61</td>\n",
       "      <td>61.50</td>\n",
       "      <td>112</td>\n",
       "      <td>0.01</td>\n",
       "      <td>102</td>\n",
       "      <td>1</td>\n",
       "      <td>16</td>\n",
       "      <td>0.6746</td>\n",
       "      <td>11</td>\n",
       "      <td>2797.884</td>\n",
       "      <td>ROU</td>\n",
       "      <td>Romania</td>\n",
       "    </tr>\n",
       "    <tr>\n",
       "      <th>2</th>\n",
       "      <td>2</td>\n",
       "      <td>3</td>\n",
       "      <td>NaN</td>\n",
       "      <td>NaN</td>\n",
       "      <td>Spain</td>\n",
       "      <td>69</td>\n",
       "      <td>66.33</td>\n",
       "      <td>74</td>\n",
       "      <td>0.05</td>\n",
       "      <td>47</td>\n",
       "      <td>22</td>\n",
       "      <td>86</td>\n",
       "      <td>0.0394</td>\n",
       "      <td>31</td>\n",
       "      <td>637.070</td>\n",
       "      <td>ESP</td>\n",
       "      <td>Spain</td>\n",
       "    </tr>\n",
       "    <tr>\n",
       "      <th>3</th>\n",
       "      <td>3</td>\n",
       "      <td>4</td>\n",
       "      <td>NaN</td>\n",
       "      <td>NaN</td>\n",
       "      <td>Slovenia</td>\n",
       "      <td>135</td>\n",
       "      <td>124.50</td>\n",
       "      <td>114</td>\n",
       "      <td>0.00</td>\n",
       "      <td>114</td>\n",
       "      <td>0</td>\n",
       "      <td>135</td>\n",
       "      <td>NaN</td>\n",
       "      <td>135</td>\n",
       "      <td>0.000</td>\n",
       "      <td>SVN</td>\n",
       "      <td>Slovenia</td>\n",
       "    </tr>\n",
       "    <tr>\n",
       "      <th>4</th>\n",
       "      <td>4</td>\n",
       "      <td>5</td>\n",
       "      <td>NaN</td>\n",
       "      <td>NaN</td>\n",
       "      <td>South Sudan</td>\n",
       "      <td>133</td>\n",
       "      <td>117.33</td>\n",
       "      <td>114</td>\n",
       "      <td>0.00</td>\n",
       "      <td>114</td>\n",
       "      <td>0</td>\n",
       "      <td>120</td>\n",
       "      <td>0.0021</td>\n",
       "      <td>122</td>\n",
       "      <td>0.508</td>\n",
       "      <td>SSD</td>\n",
       "      <td>South Sudan</td>\n",
       "    </tr>\n",
       "  </tbody>\n",
       "</table>\n",
       "</div>"
      ],
      "text/plain": [
       "   index  cartodb_id  the_geom  the_geom_webmercator       country  cri_rank  \\\n",
       "0      0           1       NaN                   NaN  Saudi Arabia        79   \n",
       "1      1           2       NaN                   NaN       Romania        61   \n",
       "2      2           3       NaN                   NaN         Spain        69   \n",
       "3      3           4       NaN                   NaN      Slovenia       135   \n",
       "4      4           5       NaN                   NaN   South Sudan       133   \n",
       "\n",
       "   cri_score  fatalities_per_100k_rank  fatalities_per_100k_total  \\\n",
       "0      72.50                        18                       0.45   \n",
       "1      61.50                       112                       0.01   \n",
       "2      66.33                        74                       0.05   \n",
       "3     124.50                       114                       0.00   \n",
       "4     117.33                       114                       0.00   \n",
       "\n",
       "   fatalities_rank  fatalities_total  losses_per_gdp__rank  \\\n",
       "0               18               140                   131   \n",
       "1              102                 1                    16   \n",
       "2               47                22                    86   \n",
       "3              114                 0                   135   \n",
       "4              114                 0                   120   \n",
       "\n",
       "   losses_per_gdp__total  losses_usdm_ppp_rank  losses_usdm_ppp_total  \\\n",
       "0                 0.0001                   119                  1.229   \n",
       "1                 0.6746                    11               2797.884   \n",
       "2                 0.0394                    31                637.070   \n",
       "3                    NaN                   135                  0.000   \n",
       "4                 0.0021                   122                  0.508   \n",
       "\n",
       "  rw_country_code rw_country_name  \n",
       "0             SAU    Saudi Arabia  \n",
       "1             ROU         Romania  \n",
       "2             ESP           Spain  \n",
       "3             SVN        Slovenia  \n",
       "4             SSD     South Sudan  "
      ]
     },
     "execution_count": 2,
     "metadata": {},
     "output_type": "execute_result"
    }
   ],
   "source": [
    "#loading dataset\n",
    "df = pd.read_csv(\"climate-risk-index-1.csv\")\n",
    "df.head()"
   ]
  },
  {
   "cell_type": "markdown",
   "id": "844b7ce9",
   "metadata": {},
   "source": [
    "<h4>Below the description of the columns<h4>"
   ]
  },
  {
   "cell_type": "markdown",
   "id": "6850b4f3",
   "metadata": {},
   "source": [
    "<b>the_geom:</b> Geometry of the country  \n",
    "<b>the_geom_webmercator:</b> Web Mercator projection of the geometry of the country  \n",
    "<b>cri_rank:</b> Rank of the country on the Climate Risk Index  \n",
    "<b>cri_score:</b> Score of the country on the Climate Risk Index  \n",
    "<b>fatalities_per_100k_rank:</b> Rank of the country in terms of fatalities per 100,000 people    \n",
    "<b>fatalities_per_100k_total:</b> Total number fatalities per 100,000 people  \n",
    "<b>fatalities_rank:</b> Rank of the country in terms of total fatalities  \n",
    "<b>fatalities_total:</b> Total number of fatalities   \n",
    "<b>losses_per_gdp__rank:</b> Rank of the country in terms of losses per GDP  \n",
    "<b>losses_per_gdp__total:</b> Total losses per GDP  \n",
    "<b>losses_usdm_ppp_rank:</b> Rank of the country in terms of losses in USDM PPP    \n",
    "<b>losses_usdm_ppp_total:</b> Total losses in USDM PPP  \n",
    "<b>rw_country_code:</b> Country code  \n",
    "<b>rw_country_name:</b> Country name  "
   ]
  },
  {
   "cell_type": "code",
   "execution_count": 3,
   "id": "47d9a1f1",
   "metadata": {},
   "outputs": [
    {
     "name": "stdout",
     "output_type": "stream",
     "text": [
      "<class 'pandas.core.frame.DataFrame'>\n",
      "RangeIndex: 182 entries, 0 to 181\n",
      "Data columns (total 17 columns):\n",
      " #   Column                     Non-Null Count  Dtype  \n",
      "---  ------                     --------------  -----  \n",
      " 0   index                      182 non-null    int64  \n",
      " 1   cartodb_id                 182 non-null    int64  \n",
      " 2   the_geom                   0 non-null      float64\n",
      " 3   the_geom_webmercator       0 non-null      float64\n",
      " 4   country                    182 non-null    object \n",
      " 5   cri_rank                   182 non-null    int64  \n",
      " 6   cri_score                  182 non-null    float64\n",
      " 7   fatalities_per_100k_rank   182 non-null    int64  \n",
      " 8   fatalities_per_100k_total  182 non-null    float64\n",
      " 9   fatalities_rank            182 non-null    int64  \n",
      " 10  fatalities_total           182 non-null    int64  \n",
      " 11  losses_per_gdp__rank       182 non-null    int64  \n",
      " 12  losses_per_gdp__total      131 non-null    float64\n",
      " 13  losses_usdm_ppp_rank       182 non-null    int64  \n",
      " 14  losses_usdm_ppp_total      182 non-null    float64\n",
      " 15  rw_country_code            179 non-null    object \n",
      " 16  rw_country_name            179 non-null    object \n",
      "dtypes: float64(6), int64(8), object(3)\n",
      "memory usage: 24.3+ KB\n"
     ]
    }
   ],
   "source": [
    "#checking data types and total entries\n",
    "df.info()"
   ]
  },
  {
   "cell_type": "markdown",
   "id": "878cce5c",
   "metadata": {},
   "source": [
    "<h1>Data Wrangling<h1>"
   ]
  },
  {
   "cell_type": "code",
   "execution_count": 4,
   "id": "33174e52",
   "metadata": {},
   "outputs": [
    {
     "data": {
      "text/plain": [
       "<AxesSubplot:>"
      ]
     },
     "execution_count": 4,
     "metadata": {},
     "output_type": "execute_result"
    },
    {
     "data": {
      "image/png": "[encoded data removed]",
      "text/plain": [
       "<Figure size 576x432 with 1 Axes>"
      ]
     },
     "metadata": {
      "needs_background": "light"
     },
     "output_type": "display_data"
    }
   ],
   "source": [
    "#visualizing missing data\n",
    "plt.figure(figsize = (8,6))\n",
    "sns.heatmap(df.isnull(), yticklabels = False, cbar = False, cmap = \"viridis\")"
   ]
  },
  {
   "cell_type": "code",
   "execution_count": 5,
   "id": "8cb9945a",
   "metadata": {},
   "outputs": [
    {
     "data": {
      "text/html": [
       "<div>\n",
       "<style scoped>\n",
       "    .dataframe tbody tr th:only-of-type {\n",
       "        vertical-align: middle;\n",
       "    }\n",
       "\n",
       "    .dataframe tbody tr th {\n",
       "        vertical-align: top;\n",
       "    }\n",
       "\n",
       "    .dataframe thead th {\n",
       "        text-align: right;\n",
       "    }\n",
       "</style>\n",
       "<table border=\"1\" class=\"dataframe\">\n",
       "  <thead>\n",
       "    <tr style=\"text-align: right;\">\n",
       "      <th></th>\n",
       "      <th>index</th>\n",
       "      <th>cartodb_id</th>\n",
       "      <th>country</th>\n",
       "      <th>cri_rank</th>\n",
       "      <th>cri_score</th>\n",
       "      <th>fatalities_per_100k_rank</th>\n",
       "      <th>fatalities_per_100k_total</th>\n",
       "      <th>fatalities_rank</th>\n",
       "      <th>fatalities_total</th>\n",
       "      <th>losses_per_gdp__rank</th>\n",
       "      <th>losses_per_gdp__total</th>\n",
       "      <th>losses_usdm_ppp_rank</th>\n",
       "      <th>losses_usdm_ppp_total</th>\n",
       "      <th>rw_country_code</th>\n",
       "      <th>rw_country_name</th>\n",
       "    </tr>\n",
       "  </thead>\n",
       "  <tbody>\n",
       "    <tr>\n",
       "      <th>0</th>\n",
       "      <td>0</td>\n",
       "      <td>1</td>\n",
       "      <td>Saudi Arabia</td>\n",
       "      <td>79</td>\n",
       "      <td>72.50</td>\n",
       "      <td>18</td>\n",
       "      <td>0.45</td>\n",
       "      <td>18</td>\n",
       "      <td>140</td>\n",
       "      <td>131</td>\n",
       "      <td>0.0001</td>\n",
       "      <td>119</td>\n",
       "      <td>1.229</td>\n",
       "      <td>SAU</td>\n",
       "      <td>Saudi Arabia</td>\n",
       "    </tr>\n",
       "    <tr>\n",
       "      <th>1</th>\n",
       "      <td>1</td>\n",
       "      <td>2</td>\n",
       "      <td>Romania</td>\n",
       "      <td>61</td>\n",
       "      <td>61.50</td>\n",
       "      <td>112</td>\n",
       "      <td>0.01</td>\n",
       "      <td>102</td>\n",
       "      <td>1</td>\n",
       "      <td>16</td>\n",
       "      <td>0.6746</td>\n",
       "      <td>11</td>\n",
       "      <td>2797.884</td>\n",
       "      <td>ROU</td>\n",
       "      <td>Romania</td>\n",
       "    </tr>\n",
       "    <tr>\n",
       "      <th>2</th>\n",
       "      <td>2</td>\n",
       "      <td>3</td>\n",
       "      <td>Spain</td>\n",
       "      <td>69</td>\n",
       "      <td>66.33</td>\n",
       "      <td>74</td>\n",
       "      <td>0.05</td>\n",
       "      <td>47</td>\n",
       "      <td>22</td>\n",
       "      <td>86</td>\n",
       "      <td>0.0394</td>\n",
       "      <td>31</td>\n",
       "      <td>637.070</td>\n",
       "      <td>ESP</td>\n",
       "      <td>Spain</td>\n",
       "    </tr>\n",
       "    <tr>\n",
       "      <th>3</th>\n",
       "      <td>3</td>\n",
       "      <td>4</td>\n",
       "      <td>Slovenia</td>\n",
       "      <td>135</td>\n",
       "      <td>124.50</td>\n",
       "      <td>114</td>\n",
       "      <td>0.00</td>\n",
       "      <td>114</td>\n",
       "      <td>0</td>\n",
       "      <td>135</td>\n",
       "      <td>NaN</td>\n",
       "      <td>135</td>\n",
       "      <td>0.000</td>\n",
       "      <td>SVN</td>\n",
       "      <td>Slovenia</td>\n",
       "    </tr>\n",
       "    <tr>\n",
       "      <th>4</th>\n",
       "      <td>4</td>\n",
       "      <td>5</td>\n",
       "      <td>South Sudan</td>\n",
       "      <td>133</td>\n",
       "      <td>117.33</td>\n",
       "      <td>114</td>\n",
       "      <td>0.00</td>\n",
       "      <td>114</td>\n",
       "      <td>0</td>\n",
       "      <td>120</td>\n",
       "      <td>0.0021</td>\n",
       "      <td>122</td>\n",
       "      <td>0.508</td>\n",
       "      <td>SSD</td>\n",
       "      <td>South Sudan</td>\n",
       "    </tr>\n",
       "  </tbody>\n",
       "</table>\n",
       "</div>"
      ],
      "text/plain": [
       "   index  cartodb_id       country  cri_rank  cri_score  \\\n",
       "0      0           1  Saudi Arabia        79      72.50   \n",
       "1      1           2       Romania        61      61.50   \n",
       "2      2           3         Spain        69      66.33   \n",
       "3      3           4      Slovenia       135     124.50   \n",
       "4      4           5   South Sudan       133     117.33   \n",
       "\n",
       "   fatalities_per_100k_rank  fatalities_per_100k_total  fatalities_rank  \\\n",
       "0                        18                       0.45               18   \n",
       "1                       112                       0.01              102   \n",
       "2                        74                       0.05               47   \n",
       "3                       114                       0.00              114   \n",
       "4                       114                       0.00              114   \n",
       "\n",
       "   fatalities_total  losses_per_gdp__rank  losses_per_gdp__total  \\\n",
       "0               140                   131                 0.0001   \n",
       "1                 1                    16                 0.6746   \n",
       "2                22                    86                 0.0394   \n",
       "3                 0                   135                    NaN   \n",
       "4                 0                   120                 0.0021   \n",
       "\n",
       "   losses_usdm_ppp_rank  losses_usdm_ppp_total rw_country_code rw_country_name  \n",
       "0                   119                  1.229             SAU    Saudi Arabia  \n",
       "1                    11               2797.884             ROU         Romania  \n",
       "2                    31                637.070             ESP           Spain  \n",
       "3                   135                  0.000             SVN        Slovenia  \n",
       "4                   122                  0.508             SSD     South Sudan  "
      ]
     },
     "execution_count": 5,
     "metadata": {},
     "output_type": "execute_result"
    }
   ],
   "source": [
    "#Dropping columns with excessive missing data\n",
    "df.drop(['the_geom', 'the_geom_webmercator'], axis = 1, inplace = True)\n",
    "df.head()"
   ]
  },
  {
   "cell_type": "code",
   "execution_count": 6,
   "id": "7eec9048",
   "metadata": {},
   "outputs": [
    {
     "name": "stdout",
     "output_type": "stream",
     "text": [
      "there are 0 duplicate values\n"
     ]
    }
   ],
   "source": [
    "#checking for duplicate values\n",
    "df_dup = df.duplicated().sum()\n",
    "print(f\"there are {df_dup} duplicate values\")"
   ]
  },
  {
   "cell_type": "code",
   "execution_count": 7,
   "id": "cee5723c",
   "metadata": {},
   "outputs": [
    {
     "name": "stdout",
     "output_type": "stream",
     "text": [
      "Index(['index', 'cartodb_id', 'country', 'cri_rank', 'cri_score',\n",
      "       'fatalities_per_100k_rank', 'fatalities_per_100k_total',\n",
      "       'fatalities_rank', 'fatalities_total', 'losses_per_gdp__rank',\n",
      "       'losses_per_gdp__total', 'losses_usdm_ppp_rank',\n",
      "       'losses_usdm_ppp_total', 'rw_country_code', 'rw_country_name'],\n",
      "      dtype='object')\n"
     ]
    }
   ],
   "source": [
    "#check columns\n",
    "print(df.columns)"
   ]
  },
  {
   "cell_type": "code",
   "execution_count": 8,
   "id": "398ff070",
   "metadata": {},
   "outputs": [
    {
     "data": {
      "text/html": [
       "<div>\n",
       "<style scoped>\n",
       "    .dataframe tbody tr th:only-of-type {\n",
       "        vertical-align: middle;\n",
       "    }\n",
       "\n",
       "    .dataframe tbody tr th {\n",
       "        vertical-align: top;\n",
       "    }\n",
       "\n",
       "    .dataframe thead th {\n",
       "        text-align: right;\n",
       "    }\n",
       "</style>\n",
       "<table border=\"1\" class=\"dataframe\">\n",
       "  <thead>\n",
       "    <tr style=\"text-align: right;\">\n",
       "      <th></th>\n",
       "      <th>cartodb_id</th>\n",
       "      <th>country</th>\n",
       "      <th>cri_rank</th>\n",
       "      <th>cri_score</th>\n",
       "      <th>fatalities_per_100k_rank</th>\n",
       "      <th>fatalities_per_100k_total</th>\n",
       "      <th>fatalities_rank</th>\n",
       "      <th>fatalities_total</th>\n",
       "      <th>losses_per_gdp__rank</th>\n",
       "      <th>losses_per_gdp__total</th>\n",
       "      <th>losses_usdm_ppp_rank</th>\n",
       "      <th>losses_usdm_ppp_total</th>\n",
       "      <th>rw_country_code</th>\n",
       "      <th>rw_country_name</th>\n",
       "    </tr>\n",
       "  </thead>\n",
       "  <tbody>\n",
       "    <tr>\n",
       "      <th>0</th>\n",
       "      <td>1</td>\n",
       "      <td>Saudi Arabia</td>\n",
       "      <td>79</td>\n",
       "      <td>72.5</td>\n",
       "      <td>18</td>\n",
       "      <td>0.45</td>\n",
       "      <td>18</td>\n",
       "      <td>140</td>\n",
       "      <td>131</td>\n",
       "      <td>0.0001</td>\n",
       "      <td>119</td>\n",
       "      <td>1.229</td>\n",
       "      <td>SAU</td>\n",
       "      <td>Saudi Arabia</td>\n",
       "    </tr>\n",
       "    <tr>\n",
       "      <th>1</th>\n",
       "      <td>2</td>\n",
       "      <td>Romania</td>\n",
       "      <td>61</td>\n",
       "      <td>61.5</td>\n",
       "      <td>112</td>\n",
       "      <td>0.01</td>\n",
       "      <td>102</td>\n",
       "      <td>1</td>\n",
       "      <td>16</td>\n",
       "      <td>0.6746</td>\n",
       "      <td>11</td>\n",
       "      <td>2797.884</td>\n",
       "      <td>ROU</td>\n",
       "      <td>Romania</td>\n",
       "    </tr>\n",
       "  </tbody>\n",
       "</table>\n",
       "</div>"
      ],
      "text/plain": [
       "   cartodb_id       country  cri_rank  cri_score  fatalities_per_100k_rank  \\\n",
       "0           1  Saudi Arabia        79       72.5                        18   \n",
       "1           2       Romania        61       61.5                       112   \n",
       "\n",
       "   fatalities_per_100k_total  fatalities_rank  fatalities_total  \\\n",
       "0                       0.45               18               140   \n",
       "1                       0.01              102                 1   \n",
       "\n",
       "   losses_per_gdp__rank  losses_per_gdp__total  losses_usdm_ppp_rank  \\\n",
       "0                   131                 0.0001                   119   \n",
       "1                    16                 0.6746                    11   \n",
       "\n",
       "   losses_usdm_ppp_total rw_country_code rw_country_name  \n",
       "0                  1.229             SAU    Saudi Arabia  \n",
       "1               2797.884             ROU         Romania  "
      ]
     },
     "execution_count": 8,
     "metadata": {},
     "output_type": "execute_result"
    }
   ],
   "source": [
    "#droping index column\n",
    "df.drop('index', axis =1, inplace = True)\n",
    "df.head(2)"
   ]
  },
  {
   "cell_type": "code",
   "execution_count": 9,
   "id": "3c3aca2a",
   "metadata": {
    "scrolled": true
   },
   "outputs": [
    {
     "data": {
      "text/html": [
       "<div>\n",
       "<style scoped>\n",
       "    .dataframe tbody tr th:only-of-type {\n",
       "        vertical-align: middle;\n",
       "    }\n",
       "\n",
       "    .dataframe tbody tr th {\n",
       "        vertical-align: top;\n",
       "    }\n",
       "\n",
       "    .dataframe thead th {\n",
       "        text-align: right;\n",
       "    }\n",
       "</style>\n",
       "<table border=\"1\" class=\"dataframe\">\n",
       "  <thead>\n",
       "    <tr style=\"text-align: right;\">\n",
       "      <th></th>\n",
       "      <th>cartodb_id</th>\n",
       "      <th>country</th>\n",
       "      <th>cri_rank</th>\n",
       "      <th>cri_score</th>\n",
       "      <th>fatalities_per_100k_rank</th>\n",
       "      <th>fatalities_per_100k_total</th>\n",
       "      <th>fatalities_rank</th>\n",
       "      <th>fatalities_total</th>\n",
       "      <th>losses_per_gdp__rank</th>\n",
       "      <th>losses_per_gdp__total</th>\n",
       "      <th>losses_usdm_ppp_rank</th>\n",
       "      <th>losses_usdm_ppp_total</th>\n",
       "      <th>rw_country_code</th>\n",
       "      <th>rw_country_name</th>\n",
       "    </tr>\n",
       "  </thead>\n",
       "  <tbody>\n",
       "    <tr>\n",
       "      <th>0</th>\n",
       "      <td>False</td>\n",
       "      <td>False</td>\n",
       "      <td>False</td>\n",
       "      <td>False</td>\n",
       "      <td>False</td>\n",
       "      <td>False</td>\n",
       "      <td>False</td>\n",
       "      <td>False</td>\n",
       "      <td>False</td>\n",
       "      <td>False</td>\n",
       "      <td>False</td>\n",
       "      <td>False</td>\n",
       "      <td>False</td>\n",
       "      <td>False</td>\n",
       "    </tr>\n",
       "    <tr>\n",
       "      <th>1</th>\n",
       "      <td>False</td>\n",
       "      <td>False</td>\n",
       "      <td>False</td>\n",
       "      <td>False</td>\n",
       "      <td>False</td>\n",
       "      <td>False</td>\n",
       "      <td>False</td>\n",
       "      <td>False</td>\n",
       "      <td>False</td>\n",
       "      <td>False</td>\n",
       "      <td>False</td>\n",
       "      <td>False</td>\n",
       "      <td>False</td>\n",
       "      <td>False</td>\n",
       "    </tr>\n",
       "    <tr>\n",
       "      <th>2</th>\n",
       "      <td>False</td>\n",
       "      <td>False</td>\n",
       "      <td>False</td>\n",
       "      <td>False</td>\n",
       "      <td>False</td>\n",
       "      <td>False</td>\n",
       "      <td>False</td>\n",
       "      <td>False</td>\n",
       "      <td>False</td>\n",
       "      <td>False</td>\n",
       "      <td>False</td>\n",
       "      <td>False</td>\n",
       "      <td>False</td>\n",
       "      <td>False</td>\n",
       "    </tr>\n",
       "    <tr>\n",
       "      <th>3</th>\n",
       "      <td>False</td>\n",
       "      <td>False</td>\n",
       "      <td>False</td>\n",
       "      <td>False</td>\n",
       "      <td>False</td>\n",
       "      <td>False</td>\n",
       "      <td>False</td>\n",
       "      <td>False</td>\n",
       "      <td>False</td>\n",
       "      <td>True</td>\n",
       "      <td>False</td>\n",
       "      <td>False</td>\n",
       "      <td>False</td>\n",
       "      <td>False</td>\n",
       "    </tr>\n",
       "    <tr>\n",
       "      <th>4</th>\n",
       "      <td>False</td>\n",
       "      <td>False</td>\n",
       "      <td>False</td>\n",
       "      <td>False</td>\n",
       "      <td>False</td>\n",
       "      <td>False</td>\n",
       "      <td>False</td>\n",
       "      <td>False</td>\n",
       "      <td>False</td>\n",
       "      <td>False</td>\n",
       "      <td>False</td>\n",
       "      <td>False</td>\n",
       "      <td>False</td>\n",
       "      <td>False</td>\n",
       "    </tr>\n",
       "  </tbody>\n",
       "</table>\n",
       "</div>"
      ],
      "text/plain": [
       "   cartodb_id  country  cri_rank  cri_score  fatalities_per_100k_rank  \\\n",
       "0       False    False     False      False                     False   \n",
       "1       False    False     False      False                     False   \n",
       "2       False    False     False      False                     False   \n",
       "3       False    False     False      False                     False   \n",
       "4       False    False     False      False                     False   \n",
       "\n",
       "   fatalities_per_100k_total  fatalities_rank  fatalities_total  \\\n",
       "0                      False            False             False   \n",
       "1                      False            False             False   \n",
       "2                      False            False             False   \n",
       "3                      False            False             False   \n",
       "4                      False            False             False   \n",
       "\n",
       "   losses_per_gdp__rank  losses_per_gdp__total  losses_usdm_ppp_rank  \\\n",
       "0                 False                  False                 False   \n",
       "1                 False                  False                 False   \n",
       "2                 False                  False                 False   \n",
       "3                 False                   True                 False   \n",
       "4                 False                  False                 False   \n",
       "\n",
       "   losses_usdm_ppp_total  rw_country_code  rw_country_name  \n",
       "0                  False            False            False  \n",
       "1                  False            False            False  \n",
       "2                  False            False            False  \n",
       "3                  False            False            False  \n",
       "4                  False            False            False  "
      ]
     },
     "execution_count": 9,
     "metadata": {},
     "output_type": "execute_result"
    }
   ],
   "source": [
    "missing_data =df.isnull()\n",
    "missing_data.head()"
   ]
  },
  {
   "cell_type": "code",
   "execution_count": 10,
   "id": "a1df7105",
   "metadata": {},
   "outputs": [
    {
     "name": "stdout",
     "output_type": "stream",
     "text": [
      "cartodb_id\n",
      "False    182\n",
      "Name: cartodb_id, dtype: int64\n",
      "\n",
      "country\n",
      "False    182\n",
      "Name: country, dtype: int64\n",
      "\n",
      "cri_rank\n",
      "False    182\n",
      "Name: cri_rank, dtype: int64\n",
      "\n",
      "cri_score\n",
      "False    182\n",
      "Name: cri_score, dtype: int64\n",
      "\n",
      "fatalities_per_100k_rank\n",
      "False    182\n",
      "Name: fatalities_per_100k_rank, dtype: int64\n",
      "\n",
      "fatalities_per_100k_total\n",
      "False    182\n",
      "Name: fatalities_per_100k_total, dtype: int64\n",
      "\n",
      "fatalities_rank\n",
      "False    182\n",
      "Name: fatalities_rank, dtype: int64\n",
      "\n",
      "fatalities_total\n",
      "False    182\n",
      "Name: fatalities_total, dtype: int64\n",
      "\n",
      "losses_per_gdp__rank\n",
      "False    182\n",
      "Name: losses_per_gdp__rank, dtype: int64\n",
      "\n",
      "losses_per_gdp__total\n",
      "False    131\n",
      "True      51\n",
      "Name: losses_per_gdp__total, dtype: int64\n",
      "\n",
      "losses_usdm_ppp_rank\n",
      "False    182\n",
      "Name: losses_usdm_ppp_rank, dtype: int64\n",
      "\n",
      "losses_usdm_ppp_total\n",
      "False    182\n",
      "Name: losses_usdm_ppp_total, dtype: int64\n",
      "\n",
      "rw_country_code\n",
      "False    179\n",
      "True       3\n",
      "Name: rw_country_code, dtype: int64\n",
      "\n",
      "rw_country_name\n",
      "False    179\n",
      "True       3\n",
      "Name: rw_country_name, dtype: int64\n",
      "\n"
     ]
    }
   ],
   "source": [
    "#finding the total number of missing values per column\n",
    "for column in missing_data.columns.values.tolist():\n",
    "    print(column)\n",
    "    print(missing_data[column].value_counts())\n",
    "    print(\"\")"
   ]
  },
  {
   "cell_type": "code",
   "execution_count": 69,
   "id": "4044979c",
   "metadata": {},
   "outputs": [
    {
     "data": {
      "text/plain": [
       "<seaborn.axisgrid.FacetGrid at 0x7fa08ba62fd0>"
      ]
     },
     "execution_count": 69,
     "metadata": {},
     "output_type": "execute_result"
    },
    {
     "data": {
      "text/plain": [
       "<Figure size 720x504 with 0 Axes>"
      ]
     },
     "metadata": {},
     "output_type": "display_data"
    },
    {
     "data": {
      "image/png": "[encoded data removed]",
      "text/plain": [
       "<Figure size 360x360 with 1 Axes>"
      ]
     },
     "metadata": {
      "needs_background": "light"
     },
     "output_type": "display_data"
    }
   ],
   "source": [
    "#checking the distribution and its skewness\n",
    "plt.figure(figsize = (10,7))\n",
    "sns.displot(df['losses_per_gdp__total'], kde = True, bins = 20)"
   ]
  },
  {
   "cell_type": "code",
   "execution_count": 44,
   "id": "310e3262",
   "metadata": {},
   "outputs": [
    {
     "data": {
      "text/html": [
       "        <script type=\"text/javascript\">\n",
       "        window.PlotlyConfig = {MathJaxConfig: 'local'};\n",
       "        if (window.MathJax) {MathJax.Hub.Config({SVG: {font: \"STIX-Web\"}});}\n",
       "        if (typeof require !== 'undefined') {\n",
       "        require.undef(\"plotly\");\n",
       "        requirejs.config({\n",
       "            paths: {\n",
       "                'plotly': ['https://cdn.plot.ly/plotly-2.9.0.min']\n",
       "            }\n",
       "        });\n",
       "        require(['plotly'], function(Plotly) {\n",
       "            window._Plotly = Plotly;\n",
       "        });\n",
       "        }\n",
       "        </script>\n",
       "        "
      ]
     },
     "metadata": {},
     "output_type": "display_data"
    },
    {
     "data": {
      "text/html": [
       "        <script type=\"text/javascript\">\n",
       "        window.PlotlyConfig = {MathJaxConfig: 'local'};\n",
       "        if (window.MathJax) {MathJax.Hub.Config({SVG: {font: \"STIX-Web\"}});}\n",
       "        if (typeof require !== 'undefined') {\n",
       "        require.undef(\"plotly\");\n",
       "        requirejs.config({\n",
       "            paths: {\n",
       "                'plotly': ['https://cdn.plot.ly/plotly-2.9.0.min']\n",
       "            }\n",
       "        });\n",
       "        require(['plotly'], function(Plotly) {\n",
       "            window._Plotly = Plotly;\n",
       "        });\n",
       "        }\n",
       "        </script>\n",
       "        "
      ]
     },
     "metadata": {},
     "output_type": "display_data"
    }
   ],
   "source": [
    "#importing libraries for interactive plots\n",
    "import chart_studio.plotly as py\n",
    "import cufflinks as cf\n",
    "import chart_studio.plotly as py\n",
    "from plotly.offline import download_plotlyjs,init_notebook_mode, plot, iplot\n",
    "init_notebook_mode(connected =True)\n",
    "cf.go_offline()"
   ]
  },
  {
   "cell_type": "code",
   "execution_count": 46,
   "id": "d0b4bc73",
   "metadata": {},
   "outputs": [
    {
     "data": {
      "application/vnd.plotly.v1+json": {
       "config": {
        "linkText": "Export to plot.ly",
        "plotlyServerURL": "https://plot.ly",
        "showLink": true
       },
       "data": [
        {
         "histfunc": "count",
         "histnorm": "",
         "marker": {
          "color": "rgba(255, 153, 51, 1.0)",
          "line": {
           "color": "#4D5663",
           "width": 1.3
          }
         },
         "name": "losses_per_gdp__total",
         "nbinsx": 10,
         "opacity": 0.8,
         "orientation": "v",
         "type": "histogram",
         "x": [
          0.0001,
          0.6746,
          0.0394,
          null,
          0.0021,
          0.0011,
          0.4722,
          0.2794,
          0.0046,
          0.0445,
          0.0174,
          0.0002,
          0.0123,
          null,
          0.2557,
          0.9035,
          0.0012,
          0.1486,
          0.1071,
          0.0471,
          null,
          0.1504,
          40.6504,
          null,
          0.0608,
          0.0841,
          0.0088,
          0.0003,
          0.1638,
          0.0079,
          0.0099,
          0.0153,
          0.0497,
          1.5444,
          null,
          0.0559,
          null,
          null,
          null,
          0.3342,
          0.0388,
          0.2356,
          null,
          0.0029,
          0.1668,
          0.2655,
          0.0249,
          0.0708,
          0.0006,
          0.147,
          0.0958,
          0.0923,
          null,
          0.2254,
          0.0144,
          0.2047,
          0.042,
          null,
          null,
          null,
          0.7565,
          null,
          0.176,
          0.1334,
          null,
          0.5515,
          0.021,
          0.2725,
          0.007,
          0.1842,
          null,
          0.6267,
          0.0496,
          0.0156,
          0.0583,
          0.1116,
          0.027,
          null,
          null,
          0.8113,
          null,
          0.2301,
          0.0743,
          null,
          0.1435,
          0.0401,
          0.142,
          0.0539,
          0.0419,
          0.5011,
          0.0088,
          0.0856,
          null,
          0.0217,
          0.002,
          0.0862,
          6.25,
          null,
          null,
          4.4507,
          null,
          0.6417,
          null,
          0.0983,
          null,
          0.0004,
          0.0151,
          0.0118,
          null,
          0.4262,
          0.0139,
          0.1202,
          0.0331,
          0.0453,
          0.4154,
          0.0025,
          0.0989,
          0.0974,
          0.0039,
          0.4655,
          0.0006,
          0.3048,
          0.022,
          0.0252,
          0.005,
          null,
          0.0456,
          0.9044,
          0.0522,
          0.6938,
          0.0959,
          null,
          0.2494,
          null,
          0.4726,
          null,
          null,
          77.3694,
          null,
          0.1338,
          0.0758,
          null,
          0.0196,
          0.008,
          null,
          null,
          null,
          null,
          0.349,
          null,
          1.0945,
          0.8921,
          null,
          0.299,
          0.0419,
          0.0317,
          0.0028,
          33.3333,
          null,
          12.5786,
          null,
          null,
          0.6409,
          0.0299,
          0.174,
          1.4993,
          0.4786,
          0.2417,
          0.3901,
          null,
          0.008,
          null,
          null,
          0.0001,
          0.006,
          0.0437,
          null,
          null,
          null,
          0.0012,
          null,
          null
         ]
        }
       ],
       "layout": {
        "barmode": "overlay",
        "legend": {
         "bgcolor": "#F5F6F9",
         "font": {
          "color": "#4D5663"
         }
        },
        "paper_bgcolor": "#F5F6F9",
        "plot_bgcolor": "#F5F6F9",
        "template": {
         "data": {
          "bar": [
           {
            "error_x": {
             "color": "#2a3f5f"
            },
            "error_y": {
             "color": "#2a3f5f"
            },
            "marker": {
             "line": {
              "color": "#E5ECF6",
              "width": 0.5
             },
             "pattern": {
              "fillmode": "overlay",
              "size": 10,
              "solidity": 0.2
             }
            },
            "type": "bar"
           }
          ],
          "barpolar": [
           {
            "marker": {
             "line": {
              "color": "#E5ECF6",
              "width": 0.5
             },
             "pattern": {
              "fillmode": "overlay",
              "size": 10,
              "solidity": 0.2
             }
            },
            "type": "barpolar"
           }
          ],
          "carpet": [
           {
            "aaxis": {
             "endlinecolor": "#2a3f5f",
             "gridcolor": "white",
             "linecolor": "white",
             "minorgridcolor": "white",
             "startlinecolor": "#2a3f5f"
            },
            "baxis": {
             "endlinecolor": "#2a3f5f",
             "gridcolor": "white",
             "linecolor": "white",
             "minorgridcolor": "white",
             "startlinecolor": "#2a3f5f"
            },
            "type": "carpet"
           }
          ],
          "choropleth": [
           {
            "colorbar": {
             "outlinewidth": 0,
             "ticks": ""
            },
            "type": "choropleth"
           }
          ],
          "contour": [
           {
            "colorbar": {
             "outlinewidth": 0,
             "ticks": ""
            },
            "colorscale": [
             [
              0,
              "#0d0887"
             ],
             [
              0.1111111111111111,
              "#46039f"
             ],
             [
              0.2222222222222222,
              "#7201a8"
             ],
             [
              0.3333333333333333,
              "#9c179e"
             ],
             [
              0.4444444444444444,
              "#bd3786"
             ],
             [
              0.5555555555555556,
              "#d8576b"
             ],
             [
              0.6666666666666666,
              "#ed7953"
             ],
             [
              0.7777777777777778,
              "#fb9f3a"
             ],
             [
              0.8888888888888888,
              "#fdca26"
             ],
             [
              1,
              "#f0f921"
             ]
            ],
            "type": "contour"
           }
          ],
          "contourcarpet": [
           {
            "colorbar": {
             "outlinewidth": 0,
             "ticks": ""
            },
            "type": "contourcarpet"
           }
          ],
          "heatmap": [
           {
            "colorbar": {
             "outlinewidth": 0,
             "ticks": ""
            },
            "colorscale": [
             [
              0,
              "#0d0887"
             ],
             [
              0.1111111111111111,
              "#46039f"
             ],
             [
              0.2222222222222222,
              "#7201a8"
             ],
             [
              0.3333333333333333,
              "#9c179e"
             ],
             [
              0.4444444444444444,
              "#bd3786"
             ],
             [
              0.5555555555555556,
              "#d8576b"
             ],
             [
              0.6666666666666666,
              "#ed7953"
             ],
             [
              0.7777777777777778,
              "#fb9f3a"
             ],
             [
              0.8888888888888888,
              "#fdca26"
             ],
             [
              1,
              "#f0f921"
             ]
            ],
            "type": "heatmap"
           }
          ],
          "heatmapgl": [
           {
            "colorbar": {
             "outlinewidth": 0,
             "ticks": ""
            },
            "colorscale": [
             [
              0,
              "#0d0887"
             ],
             [
              0.1111111111111111,
              "#46039f"
             ],
             [
              0.2222222222222222,
              "#7201a8"
             ],
             [
              0.3333333333333333,
              "#9c179e"
             ],
             [
              0.4444444444444444,
              "#bd3786"
             ],
             [
              0.5555555555555556,
              "#d8576b"
             ],
             [
              0.6666666666666666,
              "#ed7953"
             ],
             [
              0.7777777777777778,
              "#fb9f3a"
             ],
             [
              0.8888888888888888,
              "#fdca26"
             ],
             [
              1,
              "#f0f921"
             ]
            ],
            "type": "heatmapgl"
           }
          ],
          "histogram": [
           {
            "marker": {
             "pattern": {
              "fillmode": "overlay",
              "size": 10,
              "solidity": 0.2
             }
            },
            "type": "histogram"
           }
          ],
          "histogram2d": [
           {
            "colorbar": {
             "outlinewidth": 0,
             "ticks": ""
            },
            "colorscale": [
             [
              0,
              "#0d0887"
             ],
             [
              0.1111111111111111,
              "#46039f"
             ],
             [
              0.2222222222222222,
              "#7201a8"
             ],
             [
              0.3333333333333333,
              "#9c179e"
             ],
             [
              0.4444444444444444,
              "#bd3786"
             ],
             [
              0.5555555555555556,
              "#d8576b"
             ],
             [
              0.6666666666666666,
              "#ed7953"
             ],
             [
              0.7777777777777778,
              "#fb9f3a"
             ],
             [
              0.8888888888888888,
              "#fdca26"
             ],
             [
              1,
              "#f0f921"
             ]
            ],
            "type": "histogram2d"
           }
          ],
          "histogram2dcontour": [
           {
            "colorbar": {
             "outlinewidth": 0,
             "ticks": ""
            },
            "colorscale": [
             [
              0,
              "#0d0887"
             ],
             [
              0.1111111111111111,
              "#46039f"
             ],
             [
              0.2222222222222222,
              "#7201a8"
             ],
             [
              0.3333333333333333,
              "#9c179e"
             ],
             [
              0.4444444444444444,
              "#bd3786"
             ],
             [
              0.5555555555555556,
              "#d8576b"
             ],
             [
              0.6666666666666666,
              "#ed7953"
             ],
             [
              0.7777777777777778,
              "#fb9f3a"
             ],
             [
              0.8888888888888888,
              "#fdca26"
             ],
             [
              1,
              "#f0f921"
             ]
            ],
            "type": "histogram2dcontour"
           }
          ],
          "mesh3d": [
           {
            "colorbar": {
             "outlinewidth": 0,
             "ticks": ""
            },
            "type": "mesh3d"
           }
          ],
          "parcoords": [
           {
            "line": {
             "colorbar": {
              "outlinewidth": 0,
              "ticks": ""
             }
            },
            "type": "parcoords"
           }
          ],
          "pie": [
           {
            "automargin": true,
            "type": "pie"
           }
          ],
          "scatter": [
           {
            "marker": {
             "colorbar": {
              "outlinewidth": 0,
              "ticks": ""
             }
            },
            "type": "scatter"
           }
          ],
          "scatter3d": [
           {
            "line": {
             "colorbar": {
              "outlinewidth": 0,
              "ticks": ""
             }
            },
            "marker": {
             "colorbar": {
              "outlinewidth": 0,
              "ticks": ""
             }
            },
            "type": "scatter3d"
           }
          ],
          "scattercarpet": [
           {
            "marker": {
             "colorbar": {
              "outlinewidth": 0,
              "ticks": ""
             }
            },
            "type": "scattercarpet"
           }
          ],
          "scattergeo": [
           {
            "marker": {
             "colorbar": {
              "outlinewidth": 0,
              "ticks": ""
             }
            },
            "type": "scattergeo"
           }
          ],
          "scattergl": [
           {
            "marker": {
             "colorbar": {
              "outlinewidth": 0,
              "ticks": ""
             }
            },
            "type": "scattergl"
           }
          ],
          "scattermapbox": [
           {
            "marker": {
             "colorbar": {
              "outlinewidth": 0,
              "ticks": ""
             }
            },
            "type": "scattermapbox"
           }
          ],
          "scatterpolar": [
           {
            "marker": {
             "colorbar": {
              "outlinewidth": 0,
              "ticks": ""
             }
            },
            "type": "scatterpolar"
           }
          ],
          "scatterpolargl": [
           {
            "marker": {
             "colorbar": {
              "outlinewidth": 0,
              "ticks": ""
             }
            },
            "type": "scatterpolargl"
           }
          ],
          "scatterternary": [
           {
            "marker": {
             "colorbar": {
              "outlinewidth": 0,
              "ticks": ""
             }
            },
            "type": "scatterternary"
           }
          ],
          "surface": [
           {
            "colorbar": {
             "outlinewidth": 0,
             "ticks": ""
            },
            "colorscale": [
             [
              0,
              "#0d0887"
             ],
             [
              0.1111111111111111,
              "#46039f"
             ],
             [
              0.2222222222222222,
              "#7201a8"
             ],
             [
              0.3333333333333333,
              "#9c179e"
             ],
             [
              0.4444444444444444,
              "#bd3786"
             ],
             [
              0.5555555555555556,
              "#d8576b"
             ],
             [
              0.6666666666666666,
              "#ed7953"
             ],
             [
              0.7777777777777778,
              "#fb9f3a"
             ],
             [
              0.8888888888888888,
              "#fdca26"
             ],
             [
              1,
              "#f0f921"
             ]
            ],
            "type": "surface"
           }
          ],
          "table": [
           {
            "cells": {
             "fill": {
              "color": "#EBF0F8"
             },
             "line": {
              "color": "white"
             }
            },
            "header": {
             "fill": {
              "color": "#C8D4E3"
             },
             "line": {
              "color": "white"
             }
            },
            "type": "table"
           }
          ]
         },
         "layout": {
          "annotationdefaults": {
           "arrowcolor": "#2a3f5f",
           "arrowhead": 0,
           "arrowwidth": 1
          },
          "autotypenumbers": "strict",
          "coloraxis": {
           "colorbar": {
            "outlinewidth": 0,
            "ticks": ""
           }
          },
          "colorscale": {
           "diverging": [
            [
             0,
             "#8e0152"
            ],
            [
             0.1,
             "#c51b7d"
            ],
            [
             0.2,
             "#de77ae"
            ],
            [
             0.3,
             "#f1b6da"
            ],
            [
             0.4,
             "#fde0ef"
            ],
            [
             0.5,
             "#f7f7f7"
            ],
            [
             0.6,
             "#e6f5d0"
            ],
            [
             0.7,
             "#b8e186"
            ],
            [
             0.8,
             "#7fbc41"
            ],
            [
             0.9,
             "#4d9221"
            ],
            [
             1,
             "#276419"
            ]
           ],
           "sequential": [
            [
             0,
             "#0d0887"
            ],
            [
             0.1111111111111111,
             "#46039f"
            ],
            [
             0.2222222222222222,
             "#7201a8"
            ],
            [
             0.3333333333333333,
             "#9c179e"
            ],
            [
             0.4444444444444444,
             "#bd3786"
            ],
            [
             0.5555555555555556,
             "#d8576b"
            ],
            [
             0.6666666666666666,
             "#ed7953"
            ],
            [
             0.7777777777777778,
             "#fb9f3a"
            ],
            [
             0.8888888888888888,
             "#fdca26"
            ],
            [
             1,
             "#f0f921"
            ]
           ],
           "sequentialminus": [
            [
             0,
             "#0d0887"
            ],
            [
             0.1111111111111111,
             "#46039f"
            ],
            [
             0.2222222222222222,
             "#7201a8"
            ],
            [
             0.3333333333333333,
             "#9c179e"
            ],
            [
             0.4444444444444444,
             "#bd3786"
            ],
            [
             0.5555555555555556,
             "#d8576b"
            ],
            [
             0.6666666666666666,
             "#ed7953"
            ],
            [
             0.7777777777777778,
             "#fb9f3a"
            ],
            [
             0.8888888888888888,
             "#fdca26"
            ],
            [
             1,
             "#f0f921"
            ]
           ]
          },
          "colorway": [
           "#636efa",
           "#EF553B",
           "#00cc96",
           "#ab63fa",
           "#FFA15A",
           "#19d3f3",
           "#FF6692",
           "#B6E880",
           "#FF97FF",
           "#FECB52"
          ],
          "font": {
           "color": "#2a3f5f"
          },
          "geo": {
           "bgcolor": "white",
           "lakecolor": "white",
           "landcolor": "#E5ECF6",
           "showlakes": true,
           "showland": true,
           "subunitcolor": "white"
          },
          "hoverlabel": {
           "align": "left"
          },
          "hovermode": "closest",
          "mapbox": {
           "style": "light"
          },
          "paper_bgcolor": "white",
          "plot_bgcolor": "#E5ECF6",
          "polar": {
           "angularaxis": {
            "gridcolor": "white",
            "linecolor": "white",
            "ticks": ""
           },
           "bgcolor": "#E5ECF6",
           "radialaxis": {
            "gridcolor": "white",
            "linecolor": "white",
            "ticks": ""
           }
          },
          "scene": {
           "xaxis": {
            "backgroundcolor": "#E5ECF6",
            "gridcolor": "white",
            "gridwidth": 2,
            "linecolor": "white",
            "showbackground": true,
            "ticks": "",
            "zerolinecolor": "white"
           },
           "yaxis": {
            "backgroundcolor": "#E5ECF6",
            "gridcolor": "white",
            "gridwidth": 2,
            "linecolor": "white",
            "showbackground": true,
            "ticks": "",
            "zerolinecolor": "white"
           },
           "zaxis": {
            "backgroundcolor": "#E5ECF6",
            "gridcolor": "white",
            "gridwidth": 2,
            "linecolor": "white",
            "showbackground": true,
            "ticks": "",
            "zerolinecolor": "white"
           }
          },
          "shapedefaults": {
           "line": {
            "color": "#2a3f5f"
           }
          },
          "ternary": {
           "aaxis": {
            "gridcolor": "white",
            "linecolor": "white",
            "ticks": ""
           },
           "baxis": {
            "gridcolor": "white",
            "linecolor": "white",
            "ticks": ""
           },
           "bgcolor": "#E5ECF6",
           "caxis": {
            "gridcolor": "white",
            "linecolor": "white",
            "ticks": ""
           }
          },
          "title": {
           "x": 0.05
          },
          "xaxis": {
           "automargin": true,
           "gridcolor": "white",
           "linecolor": "white",
           "ticks": "",
           "title": {
            "standoff": 15
           },
           "zerolinecolor": "white",
           "zerolinewidth": 2
          },
          "yaxis": {
           "automargin": true,
           "gridcolor": "white",
           "linecolor": "white",
           "ticks": "",
           "title": {
            "standoff": 15
           },
           "zerolinecolor": "white",
           "zerolinewidth": 2
          }
         }
        },
        "title": {
         "font": {
          "color": "#4D5663"
         }
        },
        "xaxis": {
         "gridcolor": "#E1E5ED",
         "showgrid": true,
         "tickfont": {
          "color": "#4D5663"
         },
         "title": {
          "font": {
           "color": "#4D5663"
          },
          "text": ""
         },
         "zerolinecolor": "#E1E5ED"
        },
        "yaxis": {
         "gridcolor": "#E1E5ED",
         "showgrid": true,
         "tickfont": {
          "color": "#4D5663"
         },
         "title": {
          "font": {
           "color": "#4D5663"
          },
          "text": ""
         },
         "zerolinecolor": "#E1E5ED"
        }
       }
      },
      "text/html": [
       "<div>                            <div id=\"5f10e627-f975-405e-a0c0-bfab80a45c5d\" class=\"plotly-graph-div\" style=\"height:525px; width:100%;\"></div>            <script type=\"text/javascript\">                require([\"plotly\"], function(Plotly) {                    window.PLOTLYENV=window.PLOTLYENV || {};\n",
       "                    window.PLOTLYENV.BASE_URL='https://plot.ly';                                    if (document.getElementById(\"5f10e627-f975-405e-a0c0-bfab80a45c5d\")) {                    Plotly.newPlot(                        \"5f10e627-f975-405e-a0c0-bfab80a45c5d\",                        [{\"histfunc\":\"count\",\"histnorm\":\"\",\"marker\":{\"color\":\"rgba(255, 153, 51, 1.0)\",\"line\":{\"color\":\"#4D5663\",\"width\":1.3}},\"name\":\"losses_per_gdp__total\",\"nbinsx\":10,\"opacity\":0.8,\"orientation\":\"v\",\"x\":[0.0001,0.6746,0.0394,null,0.0021,0.0011,0.4722,0.2794,0.0046,0.0445,0.0174,0.0002,0.0123,null,0.2557,0.9035,0.0012,0.1486,0.1071,0.0471,null,0.1504,40.6504,null,0.0608,0.0841,0.0088,0.0003,0.1638,0.0079,0.0099,0.0153,0.0497,1.5444,null,0.0559,null,null,null,0.3342,0.0388,0.2356,null,0.0029,0.1668,0.2655,0.0249,0.0708,0.0006,0.147,0.0958,0.0923,null,0.2254,0.0144,0.2047,0.042,null,null,null,0.7565,null,0.176,0.1334,null,0.5515,0.021,0.2725,0.007,0.1842,null,0.6267,0.0496,0.0156,0.0583,0.1116,0.027,null,null,0.8113,null,0.2301,0.0743,null,0.1435,0.0401,0.142,0.0539,0.0419,0.5011,0.0088,0.0856,null,0.0217,0.002,0.0862,6.25,null,null,4.4507,null,0.6417,null,0.0983,null,0.0004,0.0151,0.0118,null,0.4262,0.0139,0.1202,0.0331,0.0453,0.4154,0.0025,0.0989,0.0974,0.0039,0.4655,0.0006,0.3048,0.022,0.0252,0.005,null,0.0456,0.9044,0.0522,0.6938,0.0959,null,0.2494,null,0.4726,null,null,77.3694,null,0.1338,0.0758,null,0.0196,0.008,null,null,null,null,0.349,null,1.0945,0.8921,null,0.299,0.0419,0.0317,0.0028,33.3333,null,12.5786,null,null,0.6409,0.0299,0.174,1.4993,0.4786,0.2417,0.3901,null,0.008,null,null,0.0001,0.006,0.0437,null,null,null,0.0012,null,null],\"type\":\"histogram\"}],                        {\"barmode\":\"overlay\",\"legend\":{\"bgcolor\":\"#F5F6F9\",\"font\":{\"color\":\"#4D5663\"}},\"paper_bgcolor\":\"#F5F6F9\",\"plot_bgcolor\":\"#F5F6F9\",\"template\":{\"data\":{\"barpolar\":[{\"marker\":{\"line\":{\"color\":\"#E5ECF6\",\"width\":0.5},\"pattern\":{\"fillmode\":\"overlay\",\"size\":10,\"solidity\":0.2}},\"type\":\"barpolar\"}],\"bar\":[{\"error_x\":{\"color\":\"#2a3f5f\"},\"error_y\":{\"color\":\"#2a3f5f\"},\"marker\":{\"line\":{\"color\":\"#E5ECF6\",\"width\":0.5},\"pattern\":{\"fillmode\":\"overlay\",\"size\":10,\"solidity\":0.2}},\"type\":\"bar\"}],\"carpet\":[{\"aaxis\":{\"endlinecolor\":\"#2a3f5f\",\"gridcolor\":\"white\",\"linecolor\":\"white\",\"minorgridcolor\":\"white\",\"startlinecolor\":\"#2a3f5f\"},\"baxis\":{\"endlinecolor\":\"#2a3f5f\",\"gridcolor\":\"white\",\"linecolor\":\"white\",\"minorgridcolor\":\"white\",\"startlinecolor\":\"#2a3f5f\"},\"type\":\"carpet\"}],\"choropleth\":[{\"colorbar\":{\"outlinewidth\":0,\"ticks\":\"\"},\"type\":\"choropleth\"}],\"contourcarpet\":[{\"colorbar\":{\"outlinewidth\":0,\"ticks\":\"\"},\"type\":\"contourcarpet\"}],\"contour\":[{\"colorbar\":{\"outlinewidth\":0,\"ticks\":\"\"},\"colorscale\":[[0.0,\"#0d0887\"],[0.1111111111111111,\"#46039f\"],[0.2222222222222222,\"#7201a8\"],[0.3333333333333333,\"#9c179e\"],[0.4444444444444444,\"#bd3786\"],[0.5555555555555556,\"#d8576b\"],[0.6666666666666666,\"#ed7953\"],[0.7777777777777778,\"#fb9f3a\"],[0.8888888888888888,\"#fdca26\"],[1.0,\"#f0f921\"]],\"type\":\"contour\"}],\"heatmapgl\":[{\"colorbar\":{\"outlinewidth\":0,\"ticks\":\"\"},\"colorscale\":[[0.0,\"#0d0887\"],[0.1111111111111111,\"#46039f\"],[0.2222222222222222,\"#7201a8\"],[0.3333333333333333,\"#9c179e\"],[0.4444444444444444,\"#bd3786\"],[0.5555555555555556,\"#d8576b\"],[0.6666666666666666,\"#ed7953\"],[0.7777777777777778,\"#fb9f3a\"],[0.8888888888888888,\"#fdca26\"],[1.0,\"#f0f921\"]],\"type\":\"heatmapgl\"}],\"heatmap\":[{\"colorbar\":{\"outlinewidth\":0,\"ticks\":\"\"},\"colorscale\":[[0.0,\"#0d0887\"],[0.1111111111111111,\"#46039f\"],[0.2222222222222222,\"#7201a8\"],[0.3333333333333333,\"#9c179e\"],[0.4444444444444444,\"#bd3786\"],[0.5555555555555556,\"#d8576b\"],[0.6666666666666666,\"#ed7953\"],[0.7777777777777778,\"#fb9f3a\"],[0.8888888888888888,\"#fdca26\"],[1.0,\"#f0f921\"]],\"type\":\"heatmap\"}],\"histogram2dcontour\":[{\"colorbar\":{\"outlinewidth\":0,\"ticks\":\"\"},\"colorscale\":[[0.0,\"#0d0887\"],[0.1111111111111111,\"#46039f\"],[0.2222222222222222,\"#7201a8\"],[0.3333333333333333,\"#9c179e\"],[0.4444444444444444,\"#bd3786\"],[0.5555555555555556,\"#d8576b\"],[0.6666666666666666,\"#ed7953\"],[0.7777777777777778,\"#fb9f3a\"],[0.8888888888888888,\"#fdca26\"],[1.0,\"#f0f921\"]],\"type\":\"histogram2dcontour\"}],\"histogram2d\":[{\"colorbar\":{\"outlinewidth\":0,\"ticks\":\"\"},\"colorscale\":[[0.0,\"#0d0887\"],[0.1111111111111111,\"#46039f\"],[0.2222222222222222,\"#7201a8\"],[0.3333333333333333,\"#9c179e\"],[0.4444444444444444,\"#bd3786\"],[0.5555555555555556,\"#d8576b\"],[0.6666666666666666,\"#ed7953\"],[0.7777777777777778,\"#fb9f3a\"],[0.8888888888888888,\"#fdca26\"],[1.0,\"#f0f921\"]],\"type\":\"histogram2d\"}],\"histogram\":[{\"marker\":{\"pattern\":{\"fillmode\":\"overlay\",\"size\":10,\"solidity\":0.2}},\"type\":\"histogram\"}],\"mesh3d\":[{\"colorbar\":{\"outlinewidth\":0,\"ticks\":\"\"},\"type\":\"mesh3d\"}],\"parcoords\":[{\"line\":{\"colorbar\":{\"outlinewidth\":0,\"ticks\":\"\"}},\"type\":\"parcoords\"}],\"pie\":[{\"automargin\":true,\"type\":\"pie\"}],\"scatter3d\":[{\"line\":{\"colorbar\":{\"outlinewidth\":0,\"ticks\":\"\"}},\"marker\":{\"colorbar\":{\"outlinewidth\":0,\"ticks\":\"\"}},\"type\":\"scatter3d\"}],\"scattercarpet\":[{\"marker\":{\"colorbar\":{\"outlinewidth\":0,\"ticks\":\"\"}},\"type\":\"scattercarpet\"}],\"scattergeo\":[{\"marker\":{\"colorbar\":{\"outlinewidth\":0,\"ticks\":\"\"}},\"type\":\"scattergeo\"}],\"scattergl\":[{\"marker\":{\"colorbar\":{\"outlinewidth\":0,\"ticks\":\"\"}},\"type\":\"scattergl\"}],\"scattermapbox\":[{\"marker\":{\"colorbar\":{\"outlinewidth\":0,\"ticks\":\"\"}},\"type\":\"scattermapbox\"}],\"scatterpolargl\":[{\"marker\":{\"colorbar\":{\"outlinewidth\":0,\"ticks\":\"\"}},\"type\":\"scatterpolargl\"}],\"scatterpolar\":[{\"marker\":{\"colorbar\":{\"outlinewidth\":0,\"ticks\":\"\"}},\"type\":\"scatterpolar\"}],\"scatter\":[{\"marker\":{\"colorbar\":{\"outlinewidth\":0,\"ticks\":\"\"}},\"type\":\"scatter\"}],\"scatterternary\":[{\"marker\":{\"colorbar\":{\"outlinewidth\":0,\"ticks\":\"\"}},\"type\":\"scatterternary\"}],\"surface\":[{\"colorbar\":{\"outlinewidth\":0,\"ticks\":\"\"},\"colorscale\":[[0.0,\"#0d0887\"],[0.1111111111111111,\"#46039f\"],[0.2222222222222222,\"#7201a8\"],[0.3333333333333333,\"#9c179e\"],[0.4444444444444444,\"#bd3786\"],[0.5555555555555556,\"#d8576b\"],[0.6666666666666666,\"#ed7953\"],[0.7777777777777778,\"#fb9f3a\"],[0.8888888888888888,\"#fdca26\"],[1.0,\"#f0f921\"]],\"type\":\"surface\"}],\"table\":[{\"cells\":{\"fill\":{\"color\":\"#EBF0F8\"},\"line\":{\"color\":\"white\"}},\"header\":{\"fill\":{\"color\":\"#C8D4E3\"},\"line\":{\"color\":\"white\"}},\"type\":\"table\"}]},\"layout\":{\"annotationdefaults\":{\"arrowcolor\":\"#2a3f5f\",\"arrowhead\":0,\"arrowwidth\":1},\"autotypenumbers\":\"strict\",\"coloraxis\":{\"colorbar\":{\"outlinewidth\":0,\"ticks\":\"\"}},\"colorscale\":{\"diverging\":[[0,\"#8e0152\"],[0.1,\"#c51b7d\"],[0.2,\"#de77ae\"],[0.3,\"#f1b6da\"],[0.4,\"#fde0ef\"],[0.5,\"#f7f7f7\"],[0.6,\"#e6f5d0\"],[0.7,\"#b8e186\"],[0.8,\"#7fbc41\"],[0.9,\"#4d9221\"],[1,\"#276419\"]],\"sequential\":[[0.0,\"#0d0887\"],[0.1111111111111111,\"#46039f\"],[0.2222222222222222,\"#7201a8\"],[0.3333333333333333,\"#9c179e\"],[0.4444444444444444,\"#bd3786\"],[0.5555555555555556,\"#d8576b\"],[0.6666666666666666,\"#ed7953\"],[0.7777777777777778,\"#fb9f3a\"],[0.8888888888888888,\"#fdca26\"],[1.0,\"#f0f921\"]],\"sequentialminus\":[[0.0,\"#0d0887\"],[0.1111111111111111,\"#46039f\"],[0.2222222222222222,\"#7201a8\"],[0.3333333333333333,\"#9c179e\"],[0.4444444444444444,\"#bd3786\"],[0.5555555555555556,\"#d8576b\"],[0.6666666666666666,\"#ed7953\"],[0.7777777777777778,\"#fb9f3a\"],[0.8888888888888888,\"#fdca26\"],[1.0,\"#f0f921\"]]},\"colorway\":[\"#636efa\",\"#EF553B\",\"#00cc96\",\"#ab63fa\",\"#FFA15A\",\"#19d3f3\",\"#FF6692\",\"#B6E880\",\"#FF97FF\",\"#FECB52\"],\"font\":{\"color\":\"#2a3f5f\"},\"geo\":{\"bgcolor\":\"white\",\"lakecolor\":\"white\",\"landcolor\":\"#E5ECF6\",\"showlakes\":true,\"showland\":true,\"subunitcolor\":\"white\"},\"hoverlabel\":{\"align\":\"left\"},\"hovermode\":\"closest\",\"mapbox\":{\"style\":\"light\"},\"paper_bgcolor\":\"white\",\"plot_bgcolor\":\"#E5ECF6\",\"polar\":{\"angularaxis\":{\"gridcolor\":\"white\",\"linecolor\":\"white\",\"ticks\":\"\"},\"bgcolor\":\"#E5ECF6\",\"radialaxis\":{\"gridcolor\":\"white\",\"linecolor\":\"white\",\"ticks\":\"\"}},\"scene\":{\"xaxis\":{\"backgroundcolor\":\"#E5ECF6\",\"gridcolor\":\"white\",\"gridwidth\":2,\"linecolor\":\"white\",\"showbackground\":true,\"ticks\":\"\",\"zerolinecolor\":\"white\"},\"yaxis\":{\"backgroundcolor\":\"#E5ECF6\",\"gridcolor\":\"white\",\"gridwidth\":2,\"linecolor\":\"white\",\"showbackground\":true,\"ticks\":\"\",\"zerolinecolor\":\"white\"},\"zaxis\":{\"backgroundcolor\":\"#E5ECF6\",\"gridcolor\":\"white\",\"gridwidth\":2,\"linecolor\":\"white\",\"showbackground\":true,\"ticks\":\"\",\"zerolinecolor\":\"white\"}},\"shapedefaults\":{\"line\":{\"color\":\"#2a3f5f\"}},\"ternary\":{\"aaxis\":{\"gridcolor\":\"white\",\"linecolor\":\"white\",\"ticks\":\"\"},\"baxis\":{\"gridcolor\":\"white\",\"linecolor\":\"white\",\"ticks\":\"\"},\"bgcolor\":\"#E5ECF6\",\"caxis\":{\"gridcolor\":\"white\",\"linecolor\":\"white\",\"ticks\":\"\"}},\"title\":{\"x\":0.05},\"xaxis\":{\"automargin\":true,\"gridcolor\":\"white\",\"linecolor\":\"white\",\"ticks\":\"\",\"title\":{\"standoff\":15},\"zerolinecolor\":\"white\",\"zerolinewidth\":2},\"yaxis\":{\"automargin\":true,\"gridcolor\":\"white\",\"linecolor\":\"white\",\"ticks\":\"\",\"title\":{\"standoff\":15},\"zerolinecolor\":\"white\",\"zerolinewidth\":2}}},\"title\":{\"font\":{\"color\":\"#4D5663\"}},\"xaxis\":{\"gridcolor\":\"#E1E5ED\",\"showgrid\":true,\"tickfont\":{\"color\":\"#4D5663\"},\"title\":{\"font\":{\"color\":\"#4D5663\"},\"text\":\"\"},\"zerolinecolor\":\"#E1E5ED\"},\"yaxis\":{\"gridcolor\":\"#E1E5ED\",\"showgrid\":true,\"tickfont\":{\"color\":\"#4D5663\"},\"title\":{\"font\":{\"color\":\"#4D5663\"},\"text\":\"\"},\"zerolinecolor\":\"#E1E5ED\"}},                        {\"showLink\": true, \"linkText\": \"Export to plot.ly\", \"plotlyServerURL\": \"https://plot.ly\", \"responsive\": true}                    ).then(function(){\n",
       "                            \n",
       "var gd = document.getElementById('5f10e627-f975-405e-a0c0-bfab80a45c5d');\n",
       "var x = new MutationObserver(function (mutations, observer) {{\n",
       "        var display = window.getComputedStyle(gd).display;\n",
       "        if (!display || display === 'none') {{\n",
       "            console.log([gd, 'removed!']);\n",
       "            Plotly.purge(gd);\n",
       "            observer.disconnect();\n",
       "        }}\n",
       "}});\n",
       "\n",
       "// Listen for the removal of the full notebook cells\n",
       "var notebookContainer = gd.closest('#notebook-container');\n",
       "if (notebookContainer) {{\n",
       "    x.observe(notebookContainer, {childList: true});\n",
       "}}\n",
       "\n",
       "// Listen for the clearing of the current output cell\n",
       "var outputEl = gd.closest('.output');\n",
       "if (outputEl) {{\n",
       "    x.observe(outputEl, {childList: true});\n",
       "}}\n",
       "\n",
       "                        })                };                });            </script>        </div>"
      ]
     },
     "metadata": {},
     "output_type": "display_data"
    }
   ],
   "source": [
    "df['losses_per_gdp__total'].iplot(kind = 'hist', bins =10)"
   ]
  },
  {
   "cell_type": "code",
   "execution_count": 47,
   "id": "1832171f",
   "metadata": {
    "scrolled": true
   },
   "outputs": [
    {
     "name": "stdout",
     "output_type": "stream",
     "text": [
      "1.5176541984732828\n"
     ]
    },
    {
     "data": {
      "text/html": [
       "<div>\n",
       "<style scoped>\n",
       "    .dataframe tbody tr th:only-of-type {\n",
       "        vertical-align: middle;\n",
       "    }\n",
       "\n",
       "    .dataframe tbody tr th {\n",
       "        vertical-align: top;\n",
       "    }\n",
       "\n",
       "    .dataframe thead th {\n",
       "        text-align: right;\n",
       "    }\n",
       "</style>\n",
       "<table border=\"1\" class=\"dataframe\">\n",
       "  <thead>\n",
       "    <tr style=\"text-align: right;\">\n",
       "      <th></th>\n",
       "      <th>cartodb_id</th>\n",
       "      <th>country</th>\n",
       "      <th>cri_rank</th>\n",
       "      <th>cri_score</th>\n",
       "      <th>fatalities_per_100k_rank</th>\n",
       "      <th>fatalities_per_100k_total</th>\n",
       "      <th>fatalities_rank</th>\n",
       "      <th>fatalities_total</th>\n",
       "      <th>losses_per_gdp__rank</th>\n",
       "      <th>losses_per_gdp__total</th>\n",
       "      <th>losses_usdm_ppp_rank</th>\n",
       "      <th>losses_usdm_ppp_total</th>\n",
       "      <th>rw_country_code</th>\n",
       "      <th>rw_country_name</th>\n",
       "    </tr>\n",
       "  </thead>\n",
       "  <tbody>\n",
       "    <tr>\n",
       "      <th>0</th>\n",
       "      <td>1</td>\n",
       "      <td>Saudi Arabia</td>\n",
       "      <td>79</td>\n",
       "      <td>72.50</td>\n",
       "      <td>18</td>\n",
       "      <td>0.45</td>\n",
       "      <td>18</td>\n",
       "      <td>140</td>\n",
       "      <td>131</td>\n",
       "      <td>0.000100</td>\n",
       "      <td>119</td>\n",
       "      <td>1.229</td>\n",
       "      <td>SAU</td>\n",
       "      <td>Saudi Arabia</td>\n",
       "    </tr>\n",
       "    <tr>\n",
       "      <th>1</th>\n",
       "      <td>2</td>\n",
       "      <td>Romania</td>\n",
       "      <td>61</td>\n",
       "      <td>61.50</td>\n",
       "      <td>112</td>\n",
       "      <td>0.01</td>\n",
       "      <td>102</td>\n",
       "      <td>1</td>\n",
       "      <td>16</td>\n",
       "      <td>0.674600</td>\n",
       "      <td>11</td>\n",
       "      <td>2797.884</td>\n",
       "      <td>ROU</td>\n",
       "      <td>Romania</td>\n",
       "    </tr>\n",
       "    <tr>\n",
       "      <th>2</th>\n",
       "      <td>3</td>\n",
       "      <td>Spain</td>\n",
       "      <td>69</td>\n",
       "      <td>66.33</td>\n",
       "      <td>74</td>\n",
       "      <td>0.05</td>\n",
       "      <td>47</td>\n",
       "      <td>22</td>\n",
       "      <td>86</td>\n",
       "      <td>0.039400</td>\n",
       "      <td>31</td>\n",
       "      <td>637.070</td>\n",
       "      <td>ESP</td>\n",
       "      <td>Spain</td>\n",
       "    </tr>\n",
       "    <tr>\n",
       "      <th>3</th>\n",
       "      <td>4</td>\n",
       "      <td>Slovenia</td>\n",
       "      <td>135</td>\n",
       "      <td>124.50</td>\n",
       "      <td>114</td>\n",
       "      <td>0.00</td>\n",
       "      <td>114</td>\n",
       "      <td>0</td>\n",
       "      <td>135</td>\n",
       "      <td>1.517654</td>\n",
       "      <td>135</td>\n",
       "      <td>0.000</td>\n",
       "      <td>SVN</td>\n",
       "      <td>Slovenia</td>\n",
       "    </tr>\n",
       "    <tr>\n",
       "      <th>4</th>\n",
       "      <td>5</td>\n",
       "      <td>South Sudan</td>\n",
       "      <td>133</td>\n",
       "      <td>117.33</td>\n",
       "      <td>114</td>\n",
       "      <td>0.00</td>\n",
       "      <td>114</td>\n",
       "      <td>0</td>\n",
       "      <td>120</td>\n",
       "      <td>0.002100</td>\n",
       "      <td>122</td>\n",
       "      <td>0.508</td>\n",
       "      <td>SSD</td>\n",
       "      <td>South Sudan</td>\n",
       "    </tr>\n",
       "  </tbody>\n",
       "</table>\n",
       "</div>"
      ],
      "text/plain": [
       "   cartodb_id       country  cri_rank  cri_score  fatalities_per_100k_rank  \\\n",
       "0           1  Saudi Arabia        79      72.50                        18   \n",
       "1           2       Romania        61      61.50                       112   \n",
       "2           3         Spain        69      66.33                        74   \n",
       "3           4      Slovenia       135     124.50                       114   \n",
       "4           5   South Sudan       133     117.33                       114   \n",
       "\n",
       "   fatalities_per_100k_total  fatalities_rank  fatalities_total  \\\n",
       "0                       0.45               18               140   \n",
       "1                       0.01              102                 1   \n",
       "2                       0.05               47                22   \n",
       "3                       0.00              114                 0   \n",
       "4                       0.00              114                 0   \n",
       "\n",
       "   losses_per_gdp__rank  losses_per_gdp__total  losses_usdm_ppp_rank  \\\n",
       "0                   131               0.000100                   119   \n",
       "1                    16               0.674600                    11   \n",
       "2                    86               0.039400                    31   \n",
       "3                   135               1.517654                   135   \n",
       "4                   120               0.002100                   122   \n",
       "\n",
       "   losses_usdm_ppp_total rw_country_code rw_country_name  \n",
       "0                  1.229             SAU    Saudi Arabia  \n",
       "1               2797.884             ROU         Romania  \n",
       "2                637.070             ESP           Spain  \n",
       "3                  0.000             SVN        Slovenia  \n",
       "4                  0.508             SSD     South Sudan  "
      ]
     },
     "execution_count": 47,
     "metadata": {},
     "output_type": "execute_result"
    }
   ],
   "source": [
    "mean = df['losses_per_gdp__total'].mean()\n",
    "print(mean)\n",
    "df['losses_per_gdp__total'].replace(np.nan,mean, inplace = True)\n",
    "df.head()"
   ]
  },
  {
   "cell_type": "code",
   "execution_count": 48,
   "id": "9c7eff3d",
   "metadata": {},
   "outputs": [
    {
     "data": {
      "text/plain": [
       "cartodb_id                   0\n",
       "country                      0\n",
       "cri_rank                     0\n",
       "cri_score                    0\n",
       "fatalities_per_100k_rank     0\n",
       "fatalities_per_100k_total    0\n",
       "fatalities_rank              0\n",
       "fatalities_total             0\n",
       "losses_per_gdp__rank         0\n",
       "losses_per_gdp__total        0\n",
       "losses_usdm_ppp_rank         0\n",
       "losses_usdm_ppp_total        0\n",
       "rw_country_code              3\n",
       "rw_country_name              3\n",
       "dtype: int64"
      ]
     },
     "execution_count": 48,
     "metadata": {},
     "output_type": "execute_result"
    }
   ],
   "source": [
    "df.isnull().sum()"
   ]
  },
  {
   "cell_type": "code",
   "execution_count": 49,
   "id": "b2cdfa81",
   "metadata": {},
   "outputs": [],
   "source": [
    "#drop missing entries\n",
    "df.dropna(axis =0, inplace =True)"
   ]
  },
  {
   "cell_type": "code",
   "execution_count": 50,
   "id": "cfdf0aeb",
   "metadata": {},
   "outputs": [
    {
     "data": {
      "text/plain": [
       "cartodb_id                   0\n",
       "country                      0\n",
       "cri_rank                     0\n",
       "cri_score                    0\n",
       "fatalities_per_100k_rank     0\n",
       "fatalities_per_100k_total    0\n",
       "fatalities_rank              0\n",
       "fatalities_total             0\n",
       "losses_per_gdp__rank         0\n",
       "losses_per_gdp__total        0\n",
       "losses_usdm_ppp_rank         0\n",
       "losses_usdm_ppp_total        0\n",
       "rw_country_code              0\n",
       "rw_country_name              0\n",
       "dtype: int64"
      ]
     },
     "execution_count": 50,
     "metadata": {},
     "output_type": "execute_result"
    }
   ],
   "source": [
    "df.isnull().sum()"
   ]
  },
  {
   "cell_type": "markdown",
   "id": "3f0b0f9c",
   "metadata": {},
   "source": [
    "<h1>Exploratory Analysis<h1>"
   ]
  },
  {
   "cell_type": "code",
   "execution_count": 52,
   "id": "7fbbb27c",
   "metadata": {},
   "outputs": [
    {
     "data": {
      "text/html": [
       "<div>\n",
       "<style scoped>\n",
       "    .dataframe tbody tr th:only-of-type {\n",
       "        vertical-align: middle;\n",
       "    }\n",
       "\n",
       "    .dataframe tbody tr th {\n",
       "        vertical-align: top;\n",
       "    }\n",
       "\n",
       "    .dataframe thead th {\n",
       "        text-align: right;\n",
       "    }\n",
       "</style>\n",
       "<table border=\"1\" class=\"dataframe\">\n",
       "  <thead>\n",
       "    <tr style=\"text-align: right;\">\n",
       "      <th></th>\n",
       "      <th>cartodb_id</th>\n",
       "      <th>country</th>\n",
       "      <th>cri_rank</th>\n",
       "      <th>cri_score</th>\n",
       "      <th>fatalities_per_100k_rank</th>\n",
       "      <th>fatalities_per_100k_total</th>\n",
       "      <th>fatalities_rank</th>\n",
       "      <th>fatalities_total</th>\n",
       "      <th>losses_per_gdp__rank</th>\n",
       "      <th>losses_per_gdp__total</th>\n",
       "      <th>losses_usdm_ppp_rank</th>\n",
       "      <th>losses_usdm_ppp_total</th>\n",
       "      <th>rw_country_code</th>\n",
       "      <th>rw_country_name</th>\n",
       "    </tr>\n",
       "  </thead>\n",
       "  <tbody>\n",
       "    <tr>\n",
       "      <th>count</th>\n",
       "      <td>179.000000</td>\n",
       "      <td>179</td>\n",
       "      <td>179.000000</td>\n",
       "      <td>179.000000</td>\n",
       "      <td>179.000000</td>\n",
       "      <td>179.000000</td>\n",
       "      <td>179.000000</td>\n",
       "      <td>179.000000</td>\n",
       "      <td>179.000000</td>\n",
       "      <td>179.000000</td>\n",
       "      <td>179.000000</td>\n",
       "      <td>179.000000</td>\n",
       "      <td>179</td>\n",
       "      <td>179</td>\n",
       "    </tr>\n",
       "    <tr>\n",
       "      <th>unique</th>\n",
       "      <td>NaN</td>\n",
       "      <td>179</td>\n",
       "      <td>NaN</td>\n",
       "      <td>NaN</td>\n",
       "      <td>NaN</td>\n",
       "      <td>NaN</td>\n",
       "      <td>NaN</td>\n",
       "      <td>NaN</td>\n",
       "      <td>NaN</td>\n",
       "      <td>NaN</td>\n",
       "      <td>NaN</td>\n",
       "      <td>NaN</td>\n",
       "      <td>179</td>\n",
       "      <td>179</td>\n",
       "    </tr>\n",
       "    <tr>\n",
       "      <th>top</th>\n",
       "      <td>NaN</td>\n",
       "      <td>Saudi Arabia</td>\n",
       "      <td>NaN</td>\n",
       "      <td>NaN</td>\n",
       "      <td>NaN</td>\n",
       "      <td>NaN</td>\n",
       "      <td>NaN</td>\n",
       "      <td>NaN</td>\n",
       "      <td>NaN</td>\n",
       "      <td>NaN</td>\n",
       "      <td>NaN</td>\n",
       "      <td>NaN</td>\n",
       "      <td>SAU</td>\n",
       "      <td>Saudi Arabia</td>\n",
       "    </tr>\n",
       "    <tr>\n",
       "      <th>freq</th>\n",
       "      <td>NaN</td>\n",
       "      <td>1</td>\n",
       "      <td>NaN</td>\n",
       "      <td>NaN</td>\n",
       "      <td>NaN</td>\n",
       "      <td>NaN</td>\n",
       "      <td>NaN</td>\n",
       "      <td>NaN</td>\n",
       "      <td>NaN</td>\n",
       "      <td>NaN</td>\n",
       "      <td>NaN</td>\n",
       "      <td>NaN</td>\n",
       "      <td>1</td>\n",
       "      <td>1</td>\n",
       "    </tr>\n",
       "    <tr>\n",
       "      <th>mean</th>\n",
       "      <td>90.368715</td>\n",
       "      <td>NaN</td>\n",
       "      <td>85.005587</td>\n",
       "      <td>81.611508</td>\n",
       "      <td>78.234637</td>\n",
       "      <td>0.528101</td>\n",
       "      <td>77.290503</td>\n",
       "      <td>88.234637</td>\n",
       "      <td>85.229050</td>\n",
       "      <td>1.533620</td>\n",
       "      <td>85.452514</td>\n",
       "      <td>914.169246</td>\n",
       "      <td>NaN</td>\n",
       "      <td>NaN</td>\n",
       "    </tr>\n",
       "    <tr>\n",
       "      <th>std</th>\n",
       "      <td>52.350035</td>\n",
       "      <td>NaN</td>\n",
       "      <td>44.816793</td>\n",
       "      <td>34.653027</td>\n",
       "      <td>37.988625</td>\n",
       "      <td>3.421780</td>\n",
       "      <td>37.604902</td>\n",
       "      <td>430.798750</td>\n",
       "      <td>44.845904</td>\n",
       "      <td>6.981483</td>\n",
       "      <td>44.607423</td>\n",
       "      <td>4520.463304</td>\n",
       "      <td>NaN</td>\n",
       "      <td>NaN</td>\n",
       "    </tr>\n",
       "    <tr>\n",
       "      <th>min</th>\n",
       "      <td>1.000000</td>\n",
       "      <td>NaN</td>\n",
       "      <td>1.000000</td>\n",
       "      <td>12.170000</td>\n",
       "      <td>1.000000</td>\n",
       "      <td>0.000000</td>\n",
       "      <td>1.000000</td>\n",
       "      <td>0.000000</td>\n",
       "      <td>1.000000</td>\n",
       "      <td>0.000100</td>\n",
       "      <td>1.000000</td>\n",
       "      <td>0.000000</td>\n",
       "      <td>NaN</td>\n",
       "      <td>NaN</td>\n",
       "    </tr>\n",
       "    <tr>\n",
       "      <th>25%</th>\n",
       "      <td>45.500000</td>\n",
       "      <td>NaN</td>\n",
       "      <td>45.000000</td>\n",
       "      <td>52.500000</td>\n",
       "      <td>45.500000</td>\n",
       "      <td>0.000000</td>\n",
       "      <td>45.500000</td>\n",
       "      <td>0.000000</td>\n",
       "      <td>45.500000</td>\n",
       "      <td>0.039100</td>\n",
       "      <td>46.500000</td>\n",
       "      <td>0.000000</td>\n",
       "      <td>NaN</td>\n",
       "      <td>NaN</td>\n",
       "    </tr>\n",
       "    <tr>\n",
       "      <th>50%</th>\n",
       "      <td>90.000000</td>\n",
       "      <td>NaN</td>\n",
       "      <td>91.000000</td>\n",
       "      <td>77.500000</td>\n",
       "      <td>91.000000</td>\n",
       "      <td>0.020000</td>\n",
       "      <td>90.000000</td>\n",
       "      <td>2.000000</td>\n",
       "      <td>92.000000</td>\n",
       "      <td>0.230100</td>\n",
       "      <td>92.000000</td>\n",
       "      <td>28.500000</td>\n",
       "      <td>NaN</td>\n",
       "      <td>NaN</td>\n",
       "    </tr>\n",
       "    <tr>\n",
       "      <th>75%</th>\n",
       "      <td>134.500000</td>\n",
       "      <td>NaN</td>\n",
       "      <td>135.000000</td>\n",
       "      <td>124.500000</td>\n",
       "      <td>114.000000</td>\n",
       "      <td>0.125000</td>\n",
       "      <td>114.000000</td>\n",
       "      <td>24.500000</td>\n",
       "      <td>135.000000</td>\n",
       "      <td>1.517654</td>\n",
       "      <td>135.000000</td>\n",
       "      <td>261.303500</td>\n",
       "      <td>NaN</td>\n",
       "      <td>NaN</td>\n",
       "    </tr>\n",
       "    <tr>\n",
       "      <th>max</th>\n",
       "      <td>182.000000</td>\n",
       "      <td>NaN</td>\n",
       "      <td>135.000000</td>\n",
       "      <td>124.500000</td>\n",
       "      <td>114.000000</td>\n",
       "      <td>43.660000</td>\n",
       "      <td>114.000000</td>\n",
       "      <td>4317.000000</td>\n",
       "      <td>135.000000</td>\n",
       "      <td>77.369400</td>\n",
       "      <td>135.000000</td>\n",
       "      <td>40077.222000</td>\n",
       "      <td>NaN</td>\n",
       "      <td>NaN</td>\n",
       "    </tr>\n",
       "  </tbody>\n",
       "</table>\n",
       "</div>"
      ],
      "text/plain": [
       "        cartodb_id       country    cri_rank   cri_score  \\\n",
       "count   179.000000           179  179.000000  179.000000   \n",
       "unique         NaN           179         NaN         NaN   \n",
       "top            NaN  Saudi Arabia         NaN         NaN   \n",
       "freq           NaN             1         NaN         NaN   \n",
       "mean     90.368715           NaN   85.005587   81.611508   \n",
       "std      52.350035           NaN   44.816793   34.653027   \n",
       "min       1.000000           NaN    1.000000   12.170000   \n",
       "25%      45.500000           NaN   45.000000   52.500000   \n",
       "50%      90.000000           NaN   91.000000   77.500000   \n",
       "75%     134.500000           NaN  135.000000  124.500000   \n",
       "max     182.000000           NaN  135.000000  124.500000   \n",
       "\n",
       "        fatalities_per_100k_rank  fatalities_per_100k_total  fatalities_rank  \\\n",
       "count                 179.000000                 179.000000       179.000000   \n",
       "unique                       NaN                        NaN              NaN   \n",
       "top                          NaN                        NaN              NaN   \n",
       "freq                         NaN                        NaN              NaN   \n",
       "mean                   78.234637                   0.528101        77.290503   \n",
       "std                    37.988625                   3.421780        37.604902   \n",
       "min                     1.000000                   0.000000         1.000000   \n",
       "25%                    45.500000                   0.000000        45.500000   \n",
       "50%                    91.000000                   0.020000        90.000000   \n",
       "75%                   114.000000                   0.125000       114.000000   \n",
       "max                   114.000000                  43.660000       114.000000   \n",
       "\n",
       "        fatalities_total  losses_per_gdp__rank  losses_per_gdp__total  \\\n",
       "count         179.000000            179.000000             179.000000   \n",
       "unique               NaN                   NaN                    NaN   \n",
       "top                  NaN                   NaN                    NaN   \n",
       "freq                 NaN                   NaN                    NaN   \n",
       "mean           88.234637             85.229050               1.533620   \n",
       "std           430.798750             44.845904               6.981483   \n",
       "min             0.000000              1.000000               0.000100   \n",
       "25%             0.000000             45.500000               0.039100   \n",
       "50%             2.000000             92.000000               0.230100   \n",
       "75%            24.500000            135.000000               1.517654   \n",
       "max          4317.000000            135.000000              77.369400   \n",
       "\n",
       "        losses_usdm_ppp_rank  losses_usdm_ppp_total rw_country_code  \\\n",
       "count             179.000000             179.000000             179   \n",
       "unique                   NaN                    NaN             179   \n",
       "top                      NaN                    NaN             SAU   \n",
       "freq                     NaN                    NaN               1   \n",
       "mean               85.452514             914.169246             NaN   \n",
       "std                44.607423            4520.463304             NaN   \n",
       "min                 1.000000               0.000000             NaN   \n",
       "25%                46.500000               0.000000             NaN   \n",
       "50%                92.000000              28.500000             NaN   \n",
       "75%               135.000000             261.303500             NaN   \n",
       "max               135.000000           40077.222000             NaN   \n",
       "\n",
       "       rw_country_name  \n",
       "count              179  \n",
       "unique             179  \n",
       "top       Saudi Arabia  \n",
       "freq                 1  \n",
       "mean               NaN  \n",
       "std                NaN  \n",
       "min                NaN  \n",
       "25%                NaN  \n",
       "50%                NaN  \n",
       "75%                NaN  \n",
       "max                NaN  "
      ]
     },
     "execution_count": 52,
     "metadata": {},
     "output_type": "execute_result"
    }
   ],
   "source": [
    "df.describe(include = 'all')"
   ]
  },
  {
   "cell_type": "code",
   "execution_count": 53,
   "id": "add80957",
   "metadata": {},
   "outputs": [
    {
     "data": {
      "text/html": [
       "<div>\n",
       "<style scoped>\n",
       "    .dataframe tbody tr th:only-of-type {\n",
       "        vertical-align: middle;\n",
       "    }\n",
       "\n",
       "    .dataframe tbody tr th {\n",
       "        vertical-align: top;\n",
       "    }\n",
       "\n",
       "    .dataframe thead th {\n",
       "        text-align: right;\n",
       "    }\n",
       "</style>\n",
       "<table border=\"1\" class=\"dataframe\">\n",
       "  <thead>\n",
       "    <tr style=\"text-align: right;\">\n",
       "      <th></th>\n",
       "      <th>cartodb_id</th>\n",
       "      <th>country</th>\n",
       "      <th>cri_rank</th>\n",
       "      <th>cri_score</th>\n",
       "      <th>fatalities_per_100k_rank</th>\n",
       "      <th>fatalities_per_100k_total</th>\n",
       "      <th>fatalities_rank</th>\n",
       "      <th>fatalities_total</th>\n",
       "      <th>losses_per_gdp__rank</th>\n",
       "      <th>losses_per_gdp__total</th>\n",
       "      <th>losses_usdm_ppp_rank</th>\n",
       "      <th>losses_usdm_ppp_total</th>\n",
       "      <th>rw_country_code</th>\n",
       "      <th>rw_country_name</th>\n",
       "    </tr>\n",
       "  </thead>\n",
       "  <tbody>\n",
       "    <tr>\n",
       "      <th>171</th>\n",
       "      <td>172</td>\n",
       "      <td>Marshall Islands</td>\n",
       "      <td>135</td>\n",
       "      <td>124.50</td>\n",
       "      <td>114</td>\n",
       "      <td>0.00</td>\n",
       "      <td>114</td>\n",
       "      <td>0</td>\n",
       "      <td>135</td>\n",
       "      <td>1.517654</td>\n",
       "      <td>135</td>\n",
       "      <td>0.000</td>\n",
       "      <td>MHL</td>\n",
       "      <td>Marshall Islands</td>\n",
       "    </tr>\n",
       "    <tr>\n",
       "      <th>172</th>\n",
       "      <td>173</td>\n",
       "      <td>Montenegro</td>\n",
       "      <td>135</td>\n",
       "      <td>124.50</td>\n",
       "      <td>114</td>\n",
       "      <td>0.00</td>\n",
       "      <td>114</td>\n",
       "      <td>0</td>\n",
       "      <td>135</td>\n",
       "      <td>1.517654</td>\n",
       "      <td>135</td>\n",
       "      <td>0.000</td>\n",
       "      <td>MNE</td>\n",
       "      <td>Montenegro</td>\n",
       "    </tr>\n",
       "    <tr>\n",
       "      <th>173</th>\n",
       "      <td>174</td>\n",
       "      <td>Rwanda</td>\n",
       "      <td>110</td>\n",
       "      <td>97.00</td>\n",
       "      <td>60</td>\n",
       "      <td>0.09</td>\n",
       "      <td>68</td>\n",
       "      <td>10</td>\n",
       "      <td>130</td>\n",
       "      <td>0.000100</td>\n",
       "      <td>134</td>\n",
       "      <td>0.025</td>\n",
       "      <td>RWA</td>\n",
       "      <td>Rwanda</td>\n",
       "    </tr>\n",
       "    <tr>\n",
       "      <th>174</th>\n",
       "      <td>175</td>\n",
       "      <td>Qatar</td>\n",
       "      <td>129</td>\n",
       "      <td>110.33</td>\n",
       "      <td>114</td>\n",
       "      <td>0.00</td>\n",
       "      <td>114</td>\n",
       "      <td>0</td>\n",
       "      <td>113</td>\n",
       "      <td>0.006000</td>\n",
       "      <td>94</td>\n",
       "      <td>19.273</td>\n",
       "      <td>QAT</td>\n",
       "      <td>Qatar</td>\n",
       "    </tr>\n",
       "    <tr>\n",
       "      <th>176</th>\n",
       "      <td>177</td>\n",
       "      <td>Samoa</td>\n",
       "      <td>135</td>\n",
       "      <td>124.50</td>\n",
       "      <td>114</td>\n",
       "      <td>0.00</td>\n",
       "      <td>114</td>\n",
       "      <td>0</td>\n",
       "      <td>135</td>\n",
       "      <td>1.517654</td>\n",
       "      <td>135</td>\n",
       "      <td>0.000</td>\n",
       "      <td>WSM</td>\n",
       "      <td>Samoa</td>\n",
       "    </tr>\n",
       "    <tr>\n",
       "      <th>177</th>\n",
       "      <td>178</td>\n",
       "      <td>Seychelles</td>\n",
       "      <td>135</td>\n",
       "      <td>124.50</td>\n",
       "      <td>114</td>\n",
       "      <td>0.00</td>\n",
       "      <td>114</td>\n",
       "      <td>0</td>\n",
       "      <td>135</td>\n",
       "      <td>1.517654</td>\n",
       "      <td>135</td>\n",
       "      <td>0.000</td>\n",
       "      <td>SYC</td>\n",
       "      <td>Seychelles</td>\n",
       "    </tr>\n",
       "    <tr>\n",
       "      <th>178</th>\n",
       "      <td>179</td>\n",
       "      <td>Gambia</td>\n",
       "      <td>135</td>\n",
       "      <td>124.50</td>\n",
       "      <td>114</td>\n",
       "      <td>0.00</td>\n",
       "      <td>114</td>\n",
       "      <td>0</td>\n",
       "      <td>135</td>\n",
       "      <td>1.517654</td>\n",
       "      <td>135</td>\n",
       "      <td>0.000</td>\n",
       "      <td>GMB</td>\n",
       "      <td>Gambia</td>\n",
       "    </tr>\n",
       "    <tr>\n",
       "      <th>179</th>\n",
       "      <td>180</td>\n",
       "      <td>Togo</td>\n",
       "      <td>131</td>\n",
       "      <td>114.33</td>\n",
       "      <td>104</td>\n",
       "      <td>0.01</td>\n",
       "      <td>102</td>\n",
       "      <td>1</td>\n",
       "      <td>123</td>\n",
       "      <td>0.001200</td>\n",
       "      <td>130</td>\n",
       "      <td>0.130</td>\n",
       "      <td>TGO</td>\n",
       "      <td>Togo</td>\n",
       "    </tr>\n",
       "    <tr>\n",
       "      <th>180</th>\n",
       "      <td>181</td>\n",
       "      <td>Trinidad and Tobago</td>\n",
       "      <td>135</td>\n",
       "      <td>124.50</td>\n",
       "      <td>114</td>\n",
       "      <td>0.00</td>\n",
       "      <td>114</td>\n",
       "      <td>0</td>\n",
       "      <td>135</td>\n",
       "      <td>1.517654</td>\n",
       "      <td>135</td>\n",
       "      <td>0.000</td>\n",
       "      <td>TTO</td>\n",
       "      <td>Trinidad and Tobago</td>\n",
       "    </tr>\n",
       "    <tr>\n",
       "      <th>181</th>\n",
       "      <td>182</td>\n",
       "      <td>Tonga</td>\n",
       "      <td>135</td>\n",
       "      <td>124.50</td>\n",
       "      <td>114</td>\n",
       "      <td>0.00</td>\n",
       "      <td>114</td>\n",
       "      <td>0</td>\n",
       "      <td>135</td>\n",
       "      <td>1.517654</td>\n",
       "      <td>135</td>\n",
       "      <td>0.000</td>\n",
       "      <td>TON</td>\n",
       "      <td>Tonga</td>\n",
       "    </tr>\n",
       "  </tbody>\n",
       "</table>\n",
       "</div>"
      ],
      "text/plain": [
       "     cartodb_id              country  cri_rank  cri_score  \\\n",
       "171         172     Marshall Islands       135     124.50   \n",
       "172         173           Montenegro       135     124.50   \n",
       "173         174               Rwanda       110      97.00   \n",
       "174         175                Qatar       129     110.33   \n",
       "176         177                Samoa       135     124.50   \n",
       "177         178           Seychelles       135     124.50   \n",
       "178         179               Gambia       135     124.50   \n",
       "179         180                 Togo       131     114.33   \n",
       "180         181  Trinidad and Tobago       135     124.50   \n",
       "181         182                Tonga       135     124.50   \n",
       "\n",
       "     fatalities_per_100k_rank  fatalities_per_100k_total  fatalities_rank  \\\n",
       "171                       114                       0.00              114   \n",
       "172                       114                       0.00              114   \n",
       "173                        60                       0.09               68   \n",
       "174                       114                       0.00              114   \n",
       "176                       114                       0.00              114   \n",
       "177                       114                       0.00              114   \n",
       "178                       114                       0.00              114   \n",
       "179                       104                       0.01              102   \n",
       "180                       114                       0.00              114   \n",
       "181                       114                       0.00              114   \n",
       "\n",
       "     fatalities_total  losses_per_gdp__rank  losses_per_gdp__total  \\\n",
       "171                 0                   135               1.517654   \n",
       "172                 0                   135               1.517654   \n",
       "173                10                   130               0.000100   \n",
       "174                 0                   113               0.006000   \n",
       "176                 0                   135               1.517654   \n",
       "177                 0                   135               1.517654   \n",
       "178                 0                   135               1.517654   \n",
       "179                 1                   123               0.001200   \n",
       "180                 0                   135               1.517654   \n",
       "181                 0                   135               1.517654   \n",
       "\n",
       "     losses_usdm_ppp_rank  losses_usdm_ppp_total rw_country_code  \\\n",
       "171                   135                  0.000             MHL   \n",
       "172                   135                  0.000             MNE   \n",
       "173                   134                  0.025             RWA   \n",
       "174                    94                 19.273             QAT   \n",
       "176                   135                  0.000             WSM   \n",
       "177                   135                  0.000             SYC   \n",
       "178                   135                  0.000             GMB   \n",
       "179                   130                  0.130             TGO   \n",
       "180                   135                  0.000             TTO   \n",
       "181                   135                  0.000             TON   \n",
       "\n",
       "         rw_country_name  \n",
       "171     Marshall Islands  \n",
       "172           Montenegro  \n",
       "173               Rwanda  \n",
       "174                Qatar  \n",
       "176                Samoa  \n",
       "177           Seychelles  \n",
       "178               Gambia  \n",
       "179                 Togo  \n",
       "180  Trinidad and Tobago  \n",
       "181                Tonga  "
      ]
     },
     "execution_count": 53,
     "metadata": {},
     "output_type": "execute_result"
    }
   ],
   "source": [
    "df.tail(10)"
   ]
  },
  {
   "cell_type": "code",
   "execution_count": 64,
   "id": "0ee09ba4",
   "metadata": {},
   "outputs": [
    {
     "data": {
      "text/html": [
       "<div>\n",
       "<style scoped>\n",
       "    .dataframe tbody tr th:only-of-type {\n",
       "        vertical-align: middle;\n",
       "    }\n",
       "\n",
       "    .dataframe tbody tr th {\n",
       "        vertical-align: top;\n",
       "    }\n",
       "\n",
       "    .dataframe thead th {\n",
       "        text-align: right;\n",
       "    }\n",
       "</style>\n",
       "<table border=\"1\" class=\"dataframe\">\n",
       "  <thead>\n",
       "    <tr style=\"text-align: right;\">\n",
       "      <th></th>\n",
       "      <th>cartodb_id</th>\n",
       "      <th>cri_rank</th>\n",
       "      <th>cri_score</th>\n",
       "      <th>fatalities_per_100k_rank</th>\n",
       "      <th>fatalities_per_100k_total</th>\n",
       "      <th>fatalities_rank</th>\n",
       "      <th>fatalities_total</th>\n",
       "      <th>losses_per_gdp__rank</th>\n",
       "      <th>losses_per_gdp__total</th>\n",
       "      <th>losses_usdm_ppp_rank</th>\n",
       "      <th>losses_usdm_ppp_total</th>\n",
       "      <th>rw_country_code</th>\n",
       "      <th>rw_country_name</th>\n",
       "    </tr>\n",
       "  </thead>\n",
       "  <tbody>\n",
       "    <tr>\n",
       "      <th>0</th>\n",
       "      <td>1</td>\n",
       "      <td>79</td>\n",
       "      <td>72.5</td>\n",
       "      <td>18</td>\n",
       "      <td>0.45</td>\n",
       "      <td>18</td>\n",
       "      <td>140</td>\n",
       "      <td>131</td>\n",
       "      <td>0.0001</td>\n",
       "      <td>119</td>\n",
       "      <td>1.229</td>\n",
       "      <td>SAU</td>\n",
       "      <td>Saudi Arabia</td>\n",
       "    </tr>\n",
       "    <tr>\n",
       "      <th>1</th>\n",
       "      <td>2</td>\n",
       "      <td>61</td>\n",
       "      <td>61.5</td>\n",
       "      <td>112</td>\n",
       "      <td>0.01</td>\n",
       "      <td>102</td>\n",
       "      <td>1</td>\n",
       "      <td>16</td>\n",
       "      <td>0.6746</td>\n",
       "      <td>11</td>\n",
       "      <td>2797.884</td>\n",
       "      <td>ROU</td>\n",
       "      <td>Romania</td>\n",
       "    </tr>\n",
       "  </tbody>\n",
       "</table>\n",
       "</div>"
      ],
      "text/plain": [
       "   cartodb_id  cri_rank  cri_score  fatalities_per_100k_rank  \\\n",
       "0           1        79       72.5                        18   \n",
       "1           2        61       61.5                       112   \n",
       "\n",
       "   fatalities_per_100k_total  fatalities_rank  fatalities_total  \\\n",
       "0                       0.45               18               140   \n",
       "1                       0.01              102                 1   \n",
       "\n",
       "   losses_per_gdp__rank  losses_per_gdp__total  losses_usdm_ppp_rank  \\\n",
       "0                   131                 0.0001                   119   \n",
       "1                    16                 0.6746                    11   \n",
       "\n",
       "   losses_usdm_ppp_total rw_country_code rw_country_name  \n",
       "0                  1.229             SAU    Saudi Arabia  \n",
       "1               2797.884             ROU         Romania  "
      ]
     },
     "execution_count": 64,
     "metadata": {},
     "output_type": "execute_result"
    }
   ],
   "source": [
    "#drop country column because same data is entered for rw_country_name\n",
    "df.drop('country', axis = 1, inplace =True)\n",
    "df.head(2)"
   ]
  },
  {
   "cell_type": "code",
   "execution_count": 67,
   "id": "ba344a3b",
   "metadata": {},
   "outputs": [
    {
     "data": {
      "text/html": [
       "<div>\n",
       "<style scoped>\n",
       "    .dataframe tbody tr th:only-of-type {\n",
       "        vertical-align: middle;\n",
       "    }\n",
       "\n",
       "    .dataframe tbody tr th {\n",
       "        vertical-align: top;\n",
       "    }\n",
       "\n",
       "    .dataframe thead th {\n",
       "        text-align: right;\n",
       "    }\n",
       "</style>\n",
       "<table border=\"1\" class=\"dataframe\">\n",
       "  <thead>\n",
       "    <tr style=\"text-align: right;\">\n",
       "      <th></th>\n",
       "      <th>cartodb_id</th>\n",
       "      <th>cri_rank</th>\n",
       "      <th>cri_score</th>\n",
       "      <th>fatalities_per_100k_rank</th>\n",
       "      <th>fatalities_per_100k_total</th>\n",
       "      <th>fatalities_rank</th>\n",
       "      <th>fatalities_total</th>\n",
       "      <th>losses_per_gdp__rank</th>\n",
       "      <th>losses_per_gdp__total</th>\n",
       "      <th>losses_usdm_ppp_rank</th>\n",
       "      <th>losses_usdm_ppp_total</th>\n",
       "      <th>country_code</th>\n",
       "      <th>country</th>\n",
       "    </tr>\n",
       "  </thead>\n",
       "  <tbody>\n",
       "    <tr>\n",
       "      <th>0</th>\n",
       "      <td>1</td>\n",
       "      <td>79</td>\n",
       "      <td>72.5</td>\n",
       "      <td>18</td>\n",
       "      <td>0.45</td>\n",
       "      <td>18</td>\n",
       "      <td>140</td>\n",
       "      <td>131</td>\n",
       "      <td>0.0001</td>\n",
       "      <td>119</td>\n",
       "      <td>1.229</td>\n",
       "      <td>SAU</td>\n",
       "      <td>Saudi Arabia</td>\n",
       "    </tr>\n",
       "    <tr>\n",
       "      <th>1</th>\n",
       "      <td>2</td>\n",
       "      <td>61</td>\n",
       "      <td>61.5</td>\n",
       "      <td>112</td>\n",
       "      <td>0.01</td>\n",
       "      <td>102</td>\n",
       "      <td>1</td>\n",
       "      <td>16</td>\n",
       "      <td>0.6746</td>\n",
       "      <td>11</td>\n",
       "      <td>2797.884</td>\n",
       "      <td>ROU</td>\n",
       "      <td>Romania</td>\n",
       "    </tr>\n",
       "  </tbody>\n",
       "</table>\n",
       "</div>"
      ],
      "text/plain": [
       "   cartodb_id  cri_rank  cri_score  fatalities_per_100k_rank  \\\n",
       "0           1        79       72.5                        18   \n",
       "1           2        61       61.5                       112   \n",
       "\n",
       "   fatalities_per_100k_total  fatalities_rank  fatalities_total  \\\n",
       "0                       0.45               18               140   \n",
       "1                       0.01              102                 1   \n",
       "\n",
       "   losses_per_gdp__rank  losses_per_gdp__total  losses_usdm_ppp_rank  \\\n",
       "0                   131                 0.0001                   119   \n",
       "1                    16                 0.6746                    11   \n",
       "\n",
       "   losses_usdm_ppp_total country_code       country  \n",
       "0                  1.229          SAU  Saudi Arabia  \n",
       "1               2797.884          ROU       Romania  "
      ]
     },
     "execution_count": 67,
     "metadata": {},
     "output_type": "execute_result"
    }
   ],
   "source": [
    "#rename country code and country name columns\n",
    "df.rename(columns = {'rw_country_code':'country_code', 'rw_country_name':'country'}, inplace =True)\n",
    "df.head(2)"
   ]
  },
  {
   "cell_type": "code",
   "execution_count": 70,
   "id": "53d03fd1",
   "metadata": {},
   "outputs": [
    {
     "data": {
      "text/plain": [
       "<seaborn.axisgrid.FacetGrid at 0x7fa08bb39af0>"
      ]
     },
     "execution_count": 70,
     "metadata": {},
     "output_type": "execute_result"
    },
    {
     "data": {
      "image/png": "[encoded data removed]",
      "text/plain": [
       "<Figure size 360x360 with 1 Axes>"
      ]
     },
     "metadata": {
      "needs_background": "light"
     },
     "output_type": "display_data"
    }
   ],
   "source": [
    "sns.lmplot(x = 'cri_rank', y ='losses_per_gdp__rank', data = df)"
   ]
  },
  {
   "cell_type": "code",
   "execution_count": 79,
   "id": "f39b8985",
   "metadata": {},
   "outputs": [
    {
     "data": {
      "text/html": [
       "<div>\n",
       "<style scoped>\n",
       "    .dataframe tbody tr th:only-of-type {\n",
       "        vertical-align: middle;\n",
       "    }\n",
       "\n",
       "    .dataframe tbody tr th {\n",
       "        vertical-align: top;\n",
       "    }\n",
       "\n",
       "    .dataframe thead th {\n",
       "        text-align: right;\n",
       "    }\n",
       "</style>\n",
       "<table border=\"1\" class=\"dataframe\">\n",
       "  <thead>\n",
       "    <tr style=\"text-align: right;\">\n",
       "      <th></th>\n",
       "      <th>cartodb_id</th>\n",
       "      <th>cri_rank</th>\n",
       "      <th>cri_score</th>\n",
       "      <th>fatalities_per_100k_rank</th>\n",
       "      <th>fatalities_per_100k_total</th>\n",
       "      <th>fatalities_rank</th>\n",
       "      <th>fatalities_total</th>\n",
       "      <th>losses_per_gdp__rank</th>\n",
       "      <th>losses_per_gdp__total</th>\n",
       "      <th>losses_usdm_ppp_rank</th>\n",
       "      <th>losses_usdm_ppp_total</th>\n",
       "    </tr>\n",
       "  </thead>\n",
       "  <tbody>\n",
       "    <tr>\n",
       "      <th>cartodb_id</th>\n",
       "      <td>1.000000</td>\n",
       "      <td>0.066129</td>\n",
       "      <td>0.090049</td>\n",
       "      <td>0.014861</td>\n",
       "      <td>0.054163</td>\n",
       "      <td>0.131124</td>\n",
       "      <td>-0.003455</td>\n",
       "      <td>0.048963</td>\n",
       "      <td>0.082771</td>\n",
       "      <td>0.185459</td>\n",
       "      <td>-0.095569</td>\n",
       "    </tr>\n",
       "    <tr>\n",
       "      <th>cri_rank</th>\n",
       "      <td>0.066129</td>\n",
       "      <td>1.000000</td>\n",
       "      <td>0.992048</td>\n",
       "      <td>0.833149</td>\n",
       "      <td>-0.247510</td>\n",
       "      <td>0.796102</td>\n",
       "      <td>-0.299780</td>\n",
       "      <td>0.854871</td>\n",
       "      <td>-0.151620</td>\n",
       "      <td>0.814919</td>\n",
       "      <td>-0.272639</td>\n",
       "    </tr>\n",
       "    <tr>\n",
       "      <th>cri_score</th>\n",
       "      <td>0.090049</td>\n",
       "      <td>0.992048</td>\n",
       "      <td>1.000000</td>\n",
       "      <td>0.831365</td>\n",
       "      <td>-0.252298</td>\n",
       "      <td>0.799179</td>\n",
       "      <td>-0.293533</td>\n",
       "      <td>0.866318</td>\n",
       "      <td>-0.154610</td>\n",
       "      <td>0.829412</td>\n",
       "      <td>-0.266617</td>\n",
       "    </tr>\n",
       "    <tr>\n",
       "      <th>fatalities_per_100k_rank</th>\n",
       "      <td>0.014861</td>\n",
       "      <td>0.833149</td>\n",
       "      <td>0.831365</td>\n",
       "      <td>1.000000</td>\n",
       "      <td>-0.289983</td>\n",
       "      <td>0.830423</td>\n",
       "      <td>-0.295026</td>\n",
       "      <td>0.513147</td>\n",
       "      <td>-0.139589</td>\n",
       "      <td>0.439927</td>\n",
       "      <td>-0.124318</td>\n",
       "    </tr>\n",
       "    <tr>\n",
       "      <th>fatalities_per_100k_total</th>\n",
       "      <td>0.054163</td>\n",
       "      <td>-0.247510</td>\n",
       "      <td>-0.252298</td>\n",
       "      <td>-0.289983</td>\n",
       "      <td>1.000000</td>\n",
       "      <td>-0.154291</td>\n",
       "      <td>0.067453</td>\n",
       "      <td>-0.213244</td>\n",
       "      <td>0.829115</td>\n",
       "      <td>-0.123214</td>\n",
       "      <td>-0.009489</td>\n",
       "    </tr>\n",
       "    <tr>\n",
       "      <th>fatalities_rank</th>\n",
       "      <td>0.131124</td>\n",
       "      <td>0.796102</td>\n",
       "      <td>0.799179</td>\n",
       "      <td>0.830423</td>\n",
       "      <td>-0.154291</td>\n",
       "      <td>1.000000</td>\n",
       "      <td>-0.377498</td>\n",
       "      <td>0.424587</td>\n",
       "      <td>0.005140</td>\n",
       "      <td>0.613882</td>\n",
       "      <td>-0.308724</td>\n",
       "    </tr>\n",
       "    <tr>\n",
       "      <th>fatalities_total</th>\n",
       "      <td>-0.003455</td>\n",
       "      <td>-0.299780</td>\n",
       "      <td>-0.293533</td>\n",
       "      <td>-0.295026</td>\n",
       "      <td>0.067453</td>\n",
       "      <td>-0.377498</td>\n",
       "      <td>1.000000</td>\n",
       "      <td>-0.136273</td>\n",
       "      <td>-0.031622</td>\n",
       "      <td>-0.273402</td>\n",
       "      <td>0.602952</td>\n",
       "    </tr>\n",
       "    <tr>\n",
       "      <th>losses_per_gdp__rank</th>\n",
       "      <td>0.048963</td>\n",
       "      <td>0.854871</td>\n",
       "      <td>0.866318</td>\n",
       "      <td>0.513147</td>\n",
       "      <td>-0.213244</td>\n",
       "      <td>0.424587</td>\n",
       "      <td>-0.136273</td>\n",
       "      <td>1.000000</td>\n",
       "      <td>-0.217997</td>\n",
       "      <td>0.795313</td>\n",
       "      <td>-0.208365</td>\n",
       "    </tr>\n",
       "    <tr>\n",
       "      <th>losses_per_gdp__total</th>\n",
       "      <td>0.082771</td>\n",
       "      <td>-0.151620</td>\n",
       "      <td>-0.154610</td>\n",
       "      <td>-0.139589</td>\n",
       "      <td>0.829115</td>\n",
       "      <td>0.005140</td>\n",
       "      <td>-0.031622</td>\n",
       "      <td>-0.217997</td>\n",
       "      <td>1.000000</td>\n",
       "      <td>-0.048903</td>\n",
       "      <td>-0.024931</td>\n",
       "    </tr>\n",
       "    <tr>\n",
       "      <th>losses_usdm_ppp_rank</th>\n",
       "      <td>0.185459</td>\n",
       "      <td>0.814919</td>\n",
       "      <td>0.829412</td>\n",
       "      <td>0.439927</td>\n",
       "      <td>-0.123214</td>\n",
       "      <td>0.613882</td>\n",
       "      <td>-0.273402</td>\n",
       "      <td>0.795313</td>\n",
       "      <td>-0.048903</td>\n",
       "      <td>1.000000</td>\n",
       "      <td>-0.351757</td>\n",
       "    </tr>\n",
       "    <tr>\n",
       "      <th>losses_usdm_ppp_total</th>\n",
       "      <td>-0.095569</td>\n",
       "      <td>-0.272639</td>\n",
       "      <td>-0.266617</td>\n",
       "      <td>-0.124318</td>\n",
       "      <td>-0.009489</td>\n",
       "      <td>-0.308724</td>\n",
       "      <td>0.602952</td>\n",
       "      <td>-0.208365</td>\n",
       "      <td>-0.024931</td>\n",
       "      <td>-0.351757</td>\n",
       "      <td>1.000000</td>\n",
       "    </tr>\n",
       "  </tbody>\n",
       "</table>\n",
       "</div>"
      ],
      "text/plain": [
       "                           cartodb_id  cri_rank  cri_score  \\\n",
       "cartodb_id                   1.000000  0.066129   0.090049   \n",
       "cri_rank                     0.066129  1.000000   0.992048   \n",
       "cri_score                    0.090049  0.992048   1.000000   \n",
       "fatalities_per_100k_rank     0.014861  0.833149   0.831365   \n",
       "fatalities_per_100k_total    0.054163 -0.247510  -0.252298   \n",
       "fatalities_rank              0.131124  0.796102   0.799179   \n",
       "fatalities_total            -0.003455 -0.299780  -0.293533   \n",
       "losses_per_gdp__rank         0.048963  0.854871   0.866318   \n",
       "losses_per_gdp__total        0.082771 -0.151620  -0.154610   \n",
       "losses_usdm_ppp_rank         0.185459  0.814919   0.829412   \n",
       "losses_usdm_ppp_total       -0.095569 -0.272639  -0.266617   \n",
       "\n",
       "                           fatalities_per_100k_rank  \\\n",
       "cartodb_id                                 0.014861   \n",
       "cri_rank                                   0.833149   \n",
       "cri_score                                  0.831365   \n",
       "fatalities_per_100k_rank                   1.000000   \n",
       "fatalities_per_100k_total                 -0.289983   \n",
       "fatalities_rank                            0.830423   \n",
       "fatalities_total                          -0.295026   \n",
       "losses_per_gdp__rank                       0.513147   \n",
       "losses_per_gdp__total                     -0.139589   \n",
       "losses_usdm_ppp_rank                       0.439927   \n",
       "losses_usdm_ppp_total                     -0.124318   \n",
       "\n",
       "                           fatalities_per_100k_total  fatalities_rank  \\\n",
       "cartodb_id                                  0.054163         0.131124   \n",
       "cri_rank                                   -0.247510         0.796102   \n",
       "cri_score                                  -0.252298         0.799179   \n",
       "fatalities_per_100k_rank                   -0.289983         0.830423   \n",
       "fatalities_per_100k_total                   1.000000        -0.154291   \n",
       "fatalities_rank                            -0.154291         1.000000   \n",
       "fatalities_total                            0.067453        -0.377498   \n",
       "losses_per_gdp__rank                       -0.213244         0.424587   \n",
       "losses_per_gdp__total                       0.829115         0.005140   \n",
       "losses_usdm_ppp_rank                       -0.123214         0.613882   \n",
       "losses_usdm_ppp_total                      -0.009489        -0.308724   \n",
       "\n",
       "                           fatalities_total  losses_per_gdp__rank  \\\n",
       "cartodb_id                        -0.003455              0.048963   \n",
       "cri_rank                          -0.299780              0.854871   \n",
       "cri_score                         -0.293533              0.866318   \n",
       "fatalities_per_100k_rank          -0.295026              0.513147   \n",
       "fatalities_per_100k_total          0.067453             -0.213244   \n",
       "fatalities_rank                   -0.377498              0.424587   \n",
       "fatalities_total                   1.000000             -0.136273   \n",
       "losses_per_gdp__rank              -0.136273              1.000000   \n",
       "losses_per_gdp__total             -0.031622             -0.217997   \n",
       "losses_usdm_ppp_rank              -0.273402              0.795313   \n",
       "losses_usdm_ppp_total              0.602952             -0.208365   \n",
       "\n",
       "                           losses_per_gdp__total  losses_usdm_ppp_rank  \\\n",
       "cartodb_id                              0.082771              0.185459   \n",
       "cri_rank                               -0.151620              0.814919   \n",
       "cri_score                              -0.154610              0.829412   \n",
       "fatalities_per_100k_rank               -0.139589              0.439927   \n",
       "fatalities_per_100k_total               0.829115             -0.123214   \n",
       "fatalities_rank                         0.005140              0.613882   \n",
       "fatalities_total                       -0.031622             -0.273402   \n",
       "losses_per_gdp__rank                   -0.217997              0.795313   \n",
       "losses_per_gdp__total                   1.000000             -0.048903   \n",
       "losses_usdm_ppp_rank                   -0.048903              1.000000   \n",
       "losses_usdm_ppp_total                  -0.024931             -0.351757   \n",
       "\n",
       "                           losses_usdm_ppp_total  \n",
       "cartodb_id                             -0.095569  \n",
       "cri_rank                               -0.272639  \n",
       "cri_score                              -0.266617  \n",
       "fatalities_per_100k_rank               -0.124318  \n",
       "fatalities_per_100k_total              -0.009489  \n",
       "fatalities_rank                        -0.308724  \n",
       "fatalities_total                        0.602952  \n",
       "losses_per_gdp__rank                   -0.208365  \n",
       "losses_per_gdp__total                  -0.024931  \n",
       "losses_usdm_ppp_rank                   -0.351757  \n",
       "losses_usdm_ppp_total                   1.000000  "
      ]
     },
     "execution_count": 79,
     "metadata": {},
     "output_type": "execute_result"
    }
   ],
   "source": [
    "df.corr()"
   ]
  },
  {
   "cell_type": "code",
   "execution_count": 81,
   "id": "1fc36871",
   "metadata": {},
   "outputs": [
    {
     "data": {
      "text/html": [
       "<div>\n",
       "<style scoped>\n",
       "    .dataframe tbody tr th:only-of-type {\n",
       "        vertical-align: middle;\n",
       "    }\n",
       "\n",
       "    .dataframe tbody tr th {\n",
       "        vertical-align: top;\n",
       "    }\n",
       "\n",
       "    .dataframe thead th {\n",
       "        text-align: right;\n",
       "    }\n",
       "</style>\n",
       "<table border=\"1\" class=\"dataframe\">\n",
       "  <thead>\n",
       "    <tr style=\"text-align: right;\">\n",
       "      <th></th>\n",
       "      <th>cri_rank</th>\n",
       "      <th>cri_score</th>\n",
       "      <th>fatalities_per_100k_rank</th>\n",
       "      <th>losses_per_gdp__rank</th>\n",
       "      <th>losses_usdm_ppp_rank</th>\n",
       "      <th>fatalities_rank</th>\n",
       "    </tr>\n",
       "  </thead>\n",
       "  <tbody>\n",
       "    <tr>\n",
       "      <th>cri_rank</th>\n",
       "      <td>1.000000</td>\n",
       "      <td>0.992048</td>\n",
       "      <td>0.833149</td>\n",
       "      <td>0.854871</td>\n",
       "      <td>0.814919</td>\n",
       "      <td>0.796102</td>\n",
       "    </tr>\n",
       "    <tr>\n",
       "      <th>cri_score</th>\n",
       "      <td>0.992048</td>\n",
       "      <td>1.000000</td>\n",
       "      <td>0.831365</td>\n",
       "      <td>0.866318</td>\n",
       "      <td>0.829412</td>\n",
       "      <td>0.799179</td>\n",
       "    </tr>\n",
       "    <tr>\n",
       "      <th>fatalities_per_100k_rank</th>\n",
       "      <td>0.833149</td>\n",
       "      <td>0.831365</td>\n",
       "      <td>1.000000</td>\n",
       "      <td>0.513147</td>\n",
       "      <td>0.439927</td>\n",
       "      <td>0.830423</td>\n",
       "    </tr>\n",
       "    <tr>\n",
       "      <th>losses_per_gdp__rank</th>\n",
       "      <td>0.854871</td>\n",
       "      <td>0.866318</td>\n",
       "      <td>0.513147</td>\n",
       "      <td>1.000000</td>\n",
       "      <td>0.795313</td>\n",
       "      <td>0.424587</td>\n",
       "    </tr>\n",
       "    <tr>\n",
       "      <th>losses_usdm_ppp_rank</th>\n",
       "      <td>0.814919</td>\n",
       "      <td>0.829412</td>\n",
       "      <td>0.439927</td>\n",
       "      <td>0.795313</td>\n",
       "      <td>1.000000</td>\n",
       "      <td>0.613882</td>\n",
       "    </tr>\n",
       "    <tr>\n",
       "      <th>fatalities_rank</th>\n",
       "      <td>0.796102</td>\n",
       "      <td>0.799179</td>\n",
       "      <td>0.830423</td>\n",
       "      <td>0.424587</td>\n",
       "      <td>0.613882</td>\n",
       "      <td>1.000000</td>\n",
       "    </tr>\n",
       "  </tbody>\n",
       "</table>\n",
       "</div>"
      ],
      "text/plain": [
       "                          cri_rank  cri_score  fatalities_per_100k_rank  \\\n",
       "cri_rank                  1.000000   0.992048                  0.833149   \n",
       "cri_score                 0.992048   1.000000                  0.831365   \n",
       "fatalities_per_100k_rank  0.833149   0.831365                  1.000000   \n",
       "losses_per_gdp__rank      0.854871   0.866318                  0.513147   \n",
       "losses_usdm_ppp_rank      0.814919   0.829412                  0.439927   \n",
       "fatalities_rank           0.796102   0.799179                  0.830423   \n",
       "\n",
       "                          losses_per_gdp__rank  losses_usdm_ppp_rank  \\\n",
       "cri_rank                              0.854871              0.814919   \n",
       "cri_score                             0.866318              0.829412   \n",
       "fatalities_per_100k_rank              0.513147              0.439927   \n",
       "losses_per_gdp__rank                  1.000000              0.795313   \n",
       "losses_usdm_ppp_rank                  0.795313              1.000000   \n",
       "fatalities_rank                       0.424587              0.613882   \n",
       "\n",
       "                          fatalities_rank  \n",
       "cri_rank                         0.796102  \n",
       "cri_score                        0.799179  \n",
       "fatalities_per_100k_rank         0.830423  \n",
       "losses_per_gdp__rank             0.424587  \n",
       "losses_usdm_ppp_rank             0.613882  \n",
       "fatalities_rank                  1.000000  "
      ]
     },
     "execution_count": 81,
     "metadata": {},
     "output_type": "execute_result"
    }
   ],
   "source": [
    "df[['cri_rank', 'cri_score', 'fatalities_per_100k_rank', 'losses_per_gdp__rank', 'losses_usdm_ppp_rank','fatalities_rank']].corr()"
   ]
  },
  {
   "cell_type": "code",
   "execution_count": 83,
   "id": "37922da9",
   "metadata": {},
   "outputs": [],
   "source": [
    "#import statistics library\n",
    "import scipy.stats as stats"
   ]
  },
  {
   "cell_type": "code",
   "execution_count": 84,
   "id": "09bd965e",
   "metadata": {},
   "outputs": [
    {
     "name": "stdout",
     "output_type": "stream",
     "text": [
      "The correlation and p_value is (0.8548707558954916, 2.5446046958550926e-52)\n"
     ]
    }
   ],
   "source": [
    "p_value = stats.pearsonr(df['cri_rank'], df['losses_per_gdp__rank'])\n",
    "print(f\"The correlation and p_value is {p_value}\")"
   ]
  },
  {
   "cell_type": "code",
   "execution_count": null,
   "id": "c30b32db",
   "metadata": {},
   "outputs": [],
   "source": []
  }
 ],
 "metadata": {
  "kernelspec": {
   "display_name": "Python 3 (ipykernel)",
   "language": "python",
   "name": "python3"
  },
  "language_info": {
   "codemirror_mode": {
    "name": "ipython",
    "version": 3
   },
   "file_extension": ".py",
   "mimetype": "text/x-python",
   "name": "python",
   "nbconvert_exporter": "python",
   "pygments_lexer": "ipython3",
   "version": "3.9.12"
  }
 },
 "nbformat": 4,
 "nbformat_minor": 5
}
